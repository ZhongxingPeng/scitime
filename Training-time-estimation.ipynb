{
 "cells": [
  {
   "cell_type": "code",
   "execution_count": 1,
   "metadata": {
    "collapsed": true
   },
   "outputs": [],
   "source": [
    "from main import RFest\n",
    "from sklearn.ensemble import RandomForestRegressor\n",
    "import numpy as np\n",
    "import time"
   ]
  },
  {
   "cell_type": "code",
   "execution_count": 2,
   "metadata": {
    "collapsed": true
   },
   "outputs": [],
   "source": [
    "#Checking number of cores\n",
    "estimator=RFest(drop_rate=0.99999)"
   ]
  },
  {
   "cell_type": "code",
   "execution_count": 3,
   "metadata": {},
   "outputs": [
    {
     "data": {
      "text/plain": [
       "[100, 1000, 10000]"
      ]
     },
     "execution_count": 3,
     "metadata": {},
     "output_type": "execute_result"
    }
   ],
   "source": [
    "estimator.rows_range"
   ]
  },
  {
   "cell_type": "code",
   "execution_count": 27,
   "metadata": {},
   "outputs": [
    {
     "name": "stderr",
     "output_type": "stream",
     "text": [
      "2018-09-01 16:35:01,766 - main - Generating dummy training durations to create a training set\n"
     ]
    }
   ],
   "source": [
    "df=estimator.generate_data()"
   ]
  },
  {
   "cell_type": "code",
   "execution_count": 7,
   "metadata": {},
   "outputs": [
    {
     "name": "stderr",
     "output_type": "stream",
     "text": [
      "2018-09-01 17:35:30,751 - main - Generating dummy training durations to create a training set\n",
      "2018-09-01 17:35:34,315 - main - Fitting LR to estimate training durations\n",
      "2018-09-01 17:35:34,330 - main - Saving LR coefs in json file\n",
      "2018-09-01 17:35:34,333 - main - Saving LR to LR_estimator.pkl\n",
      "2018-09-01 17:35:34,340 - main - R squared on train set is 1.0\n",
      "2018-09-01 17:35:34,342 - main - MAPE on train set is: 1.5967033308610918e-13\n",
      "2018-09-01 17:35:34,347 - main - MAPE on test set is: 34.59030194142593\n",
      "2018-09-01 17:35:34,349 - main - MSE on train set is 1.6490775148815707e-32\n",
      "2018-09-01 17:35:34,352 - main - MSE on test set is 0.0009548975861206668\n"
     ]
    },
    {
     "data": {
      "text/plain": [
       "LinearRegression(copy_X=True, fit_intercept=True, n_jobs=1, normalize=False)"
      ]
     },
     "execution_count": 7,
     "metadata": {},
     "output_type": "execute_result"
    }
   ],
   "source": [
    "estimator.model_fit()"
   ]
  },
  {
   "cell_type": "code",
   "execution_count": 3,
   "metadata": {
    "collapsed": true
   },
   "outputs": [],
   "source": [
    "rf= RandomForestRegressor(bootstrap=True, criterion='mse', max_depth=10,\n",
    "           max_features=5, max_leaf_nodes=5, min_impurity_decrease=0.0,\n",
    "           min_impurity_split=5, min_samples_leaf=1,\n",
    "           min_samples_split=2, min_weight_fraction_leaf=0.0,\n",
    "           n_estimators=100, n_jobs=-1, oob_score=False, random_state=None,\n",
    "           verbose=0, warm_start=False)\n"
   ]
  },
  {
   "cell_type": "code",
   "execution_count": 4,
   "metadata": {},
   "outputs": [
    {
     "name": "stderr",
     "output_type": "stream",
     "text": [
      "2018-09-01 18:25:48,861 - main - Loading LR coefs from json file\n",
      "2018-09-01 18:25:48,878 - main - Training your model should take ~ 25.5884222205 seconds\n"
     ]
    },
    {
     "name": "stdout",
     "output_type": "stream",
     "text": [
      "   num_rows  num_features  n_estimators  max_depth  min_samples_split  \\\n",
      "0  20000000            10           100         10                  2   \n",
      "\n",
      "   min_samples_leaf  min_weight_fraction_leaf  max_features_auto  \\\n",
      "0                 1                       0.0                  0   \n",
      "\n",
      "   max_leaf_nodes  min_impurity_decrease  min_impurity_split  bootstrap  \\\n",
      "0               5                    0.0                   5       True   \n",
      "\n",
      "   oob_score  n_jobs  \n",
      "0      False       8  \n"
     ]
    },
    {
     "data": {
      "text/plain": [
       "25.588422220518776"
      ]
     },
     "execution_count": 4,
     "metadata": {},
     "output_type": "execute_result"
    }
   ],
   "source": [
    "estimator.estimate_duration(np.random.rand(20000000,10),rf)\n"
   ]
  },
  {
   "cell_type": "code",
   "execution_count": 5,
   "metadata": {
    "collapsed": true
   },
   "outputs": [],
   "source": [
    "X,y=np.random.rand(20000000,10),np.random.rand(20000000,1)\n",
    "start_time = time.time()\n",
    "rf.fit(X,y)\n",
    "elapsed_time = time.time() - start_time"
   ]
  },
  {
   "cell_type": "code",
   "execution_count": 6,
   "metadata": {},
   "outputs": [
    {
     "data": {
      "text/plain": [
       "46.80437779426575"
      ]
     },
     "execution_count": 6,
     "metadata": {},
     "output_type": "execute_result"
    }
   ],
   "source": [
    "elapsed_time"
   ]
  },
  {
   "cell_type": "code",
   "execution_count": null,
   "metadata": {
    "collapsed": true
   },
   "outputs": [],
   "source": []
  }
 ],
 "metadata": {
  "kernelspec": {
   "display_name": "Python 3",
   "language": "python",
   "name": "python3"
  },
  "language_info": {
   "codemirror_mode": {
    "name": "ipython",
    "version": 3
   },
   "file_extension": ".py",
   "mimetype": "text/x-python",
   "name": "python",
   "nbconvert_exporter": "python",
   "pygments_lexer": "ipython3",
   "version": "3.6.3"
  }
 },
 "nbformat": 4,
 "nbformat_minor": 2
}
