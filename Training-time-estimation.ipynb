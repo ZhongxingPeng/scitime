{
 "cells": [
  {
   "cell_type": "code",
   "execution_count": 1,
   "metadata": {
    "collapsed": true
   },
   "outputs": [],
   "source": [
    "from main import RFest\n",
    "from sklearn.ensemble import RandomForestRegressor\n",
    "import numpy as np"
   ]
  },
  {
   "cell_type": "code",
   "execution_count": 2,
   "metadata": {
    "collapsed": true
   },
   "outputs": [],
   "source": [
    "#Checking number of cores\n",
    "estimator=RFest(drop_rate=0.999)"
   ]
  },
  {
   "cell_type": "code",
   "execution_count": 3,
   "metadata": {},
   "outputs": [
    {
     "name": "stderr",
     "output_type": "stream",
     "text": [
      "2018-08-29 13:03:41,336 - main - Generating dummy training durations to create a training set\n",
      "2018-08-29 13:04:23,027 - main - Fitting LR to estimate training durations\n",
      "2018-08-29 13:04:23,120 - main - Saving LR to LR_estimator.pkl\n",
      "2018-08-29 13:04:23,123 - main - R squared on train set is 0.3012819002067545\n",
      "2018-08-29 13:04:23,125 - main - MAPE on train set is: 115.32882235569963\n",
      "2018-08-29 13:04:23,127 - main - MAPE on test set is: 90.00580383347292\n",
      "2018-08-29 13:04:23,130 - main - MSE on train set is 0.002002780989817843\n",
      "2018-08-29 13:04:23,132 - main - MSE on test set is 0.0018788828757779603\n"
     ]
    },
    {
     "data": {
      "text/plain": [
       "LinearRegression(copy_X=True, fit_intercept=True, n_jobs=1, normalize=False)"
      ]
     },
     "execution_count": 3,
     "metadata": {},
     "output_type": "execute_result"
    }
   ],
   "source": [
    "estimator.model_fit()"
   ]
  },
  {
   "cell_type": "code",
   "execution_count": 6,
   "metadata": {
    "collapsed": true
   },
   "outputs": [],
   "source": [
    "rf= RandomForestRegressor(bootstrap=True, criterion='mse', max_depth=10,\n",
    "           max_features=5, max_leaf_nodes=5, min_impurity_decrease=0.0,\n",
    "           min_impurity_split=5, min_samples_leaf=1,\n",
    "           min_samples_split=2, min_weight_fraction_leaf=0.0,\n",
    "           n_estimators=100, n_jobs=-1, oob_score=False, random_state=None,\n",
    "           verbose=0, warm_start=False)\n"
   ]
  },
  {
   "cell_type": "code",
   "execution_count": 11,
   "metadata": {},
   "outputs": [
    {
     "name": "stderr",
     "output_type": "stream",
     "text": [
      "2018-08-29 13:05:21,320 - main - Fetching estimator: LR_estimator.pkl\n",
      "2018-08-29 13:05:21,322 - main - Training your model should take ~ 14.7130580089 seconds\n"
     ]
    },
    {
     "data": {
      "text/plain": [
       "array([ 14.71305801])"
      ]
     },
     "execution_count": 11,
     "metadata": {},
     "output_type": "execute_result"
    }
   ],
   "source": [
    "estimator.estimate_duration(np.random.rand(20000000,10),rf)\n"
   ]
  },
  {
   "cell_type": "code",
   "execution_count": null,
   "metadata": {
    "collapsed": true
   },
   "outputs": [],
   "source": []
  }
 ],
 "metadata": {
  "kernelspec": {
   "display_name": "Python 3",
   "language": "python",
   "name": "python3"
  },
  "language_info": {
   "codemirror_mode": {
    "name": "ipython",
    "version": 3
   },
   "file_extension": ".py",
   "mimetype": "text/x-python",
   "name": "python",
   "nbconvert_exporter": "python",
   "pygments_lexer": "ipython3",
   "version": "3.6.3"
  }
 },
 "nbformat": 4,
 "nbformat_minor": 2
}
