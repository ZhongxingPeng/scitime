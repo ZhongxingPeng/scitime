{
 "cells": [
  {
   "cell_type": "code",
   "execution_count": 1,
   "metadata": {
    "collapsed": true
   },
   "outputs": [],
   "source": [
    "from main import RFest\n",
    "from sklearn.ensemble import RandomForestRegressor\n",
    "import numpy as np\n",
    "import time"
   ]
  },
  {
   "cell_type": "code",
   "execution_count": 34,
   "metadata": {
    "collapsed": true
   },
   "outputs": [],
   "source": [
    "#Checking number of cores\n",
    "estimator=RFest(drop_rate=0.99999)"
   ]
  },
  {
   "cell_type": "code",
   "execution_count": null,
   "metadata": {
    "collapsed": true
   },
   "outputs": [],
   "source": [
    "estimator.rows_range"
   ]
  },
  {
   "cell_type": "code",
   "execution_count": 27,
   "metadata": {},
   "outputs": [
    {
     "name": "stderr",
     "output_type": "stream",
     "text": [
      "2018-09-01 16:35:01,766 - main - Generating dummy training durations to create a training set\n"
     ]
    }
   ],
   "source": [
    "df=estimator.generate_data()"
   ]
  },
  {
   "cell_type": "code",
   "execution_count": 31,
   "metadata": {},
   "outputs": [
    {
     "data": {
      "text/plain": [
       "count     7973.000000\n",
       "mean      3657.782516\n",
       "std       4453.865502\n",
       "min        100.000000\n",
       "25%        100.000000\n",
       "50%       1000.000000\n",
       "75%      10000.000000\n",
       "max      10000.000000\n",
       "Name: num_rows, dtype: float64"
      ]
     },
     "execution_count": 31,
     "metadata": {},
     "output_type": "execute_result"
    }
   ],
   "source": [
    "df[0].num_rows.describe()"
   ]
  },
  {
   "cell_type": "code",
   "execution_count": 3,
   "metadata": {},
   "outputs": [
    {
     "name": "stderr",
     "output_type": "stream",
     "text": [
      "2018-08-29 13:27:43,756 - main - Generating dummy training durations to create a training set\n",
      "2018-08-29 13:34:21,884 - main - Fitting LR to estimate training durations\n",
      "2018-08-29 13:34:22,011 - main - Saving LR to LR_estimator.pkl\n",
      "2018-08-29 13:34:22,017 - main - R squared on train set is 0.28951561653299607\n",
      "2018-08-29 13:34:22,022 - main - MAPE on train set is: 103.06569535701071\n",
      "2018-08-29 13:34:22,026 - main - MAPE on test set is: 110.35796054230411\n",
      "2018-08-29 13:34:22,032 - main - MSE on train set is 0.00210308752680741\n",
      "2018-08-29 13:34:22,039 - main - MSE on test set is 0.0021832059801950346\n"
     ]
    },
    {
     "data": {
      "text/plain": [
       "LinearRegression(copy_X=True, fit_intercept=True, n_jobs=1, normalize=False)"
      ]
     },
     "execution_count": 3,
     "metadata": {},
     "output_type": "execute_result"
    }
   ],
   "source": [
    "estimator.model_fit()"
   ]
  },
  {
   "cell_type": "code",
   "execution_count": 4,
   "metadata": {
    "collapsed": true
   },
   "outputs": [],
   "source": [
    "rf= RandomForestRegressor(bootstrap=True, criterion='mse', max_depth=10,\n",
    "           max_features=5, max_leaf_nodes=5, min_impurity_decrease=0.0,\n",
    "           min_impurity_split=5, min_samples_leaf=1,\n",
    "           min_samples_split=2, min_weight_fraction_leaf=0.0,\n",
    "           n_estimators=100, n_jobs=-1, oob_score=False, random_state=None,\n",
    "           verbose=0, warm_start=False)\n"
   ]
  },
  {
   "cell_type": "code",
   "execution_count": 15,
   "metadata": {},
   "outputs": [
    {
     "name": "stderr",
     "output_type": "stream",
     "text": [
      "2018-08-29 13:46:35,135 - main - Fetching estimator: LR_estimator.pkl\n",
      "2018-08-29 13:46:35,143 - main - Training your model should take ~ 22.0532326164 seconds\n"
     ]
    },
    {
     "data": {
      "text/plain": [
       "array([ 22.05323262])"
      ]
     },
     "execution_count": 15,
     "metadata": {},
     "output_type": "execute_result"
    }
   ],
   "source": [
    "estimator.estimate_duration(np.random.rand(20000000,10),rf)\n"
   ]
  },
  {
   "cell_type": "code",
   "execution_count": 16,
   "metadata": {
    "collapsed": true
   },
   "outputs": [],
   "source": [
    "X,y=np.random.rand(20000000,10),np.random.rand(20000000,1)\n",
    "start_time = time.time()\n",
    "rf.fit(X,y)\n",
    "elapsed_time = time.time() - start_time"
   ]
  },
  {
   "cell_type": "code",
   "execution_count": 17,
   "metadata": {},
   "outputs": [
    {
     "data": {
      "text/plain": [
       "49.866721868515015"
      ]
     },
     "execution_count": 17,
     "metadata": {},
     "output_type": "execute_result"
    }
   ],
   "source": [
    "elapsed_time"
   ]
  },
  {
   "cell_type": "code",
   "execution_count": null,
   "metadata": {
    "collapsed": true
   },
   "outputs": [],
   "source": []
  }
 ],
 "metadata": {
  "kernelspec": {
   "display_name": "Python 3",
   "language": "python",
   "name": "python3"
  },
  "language_info": {
   "codemirror_mode": {
    "name": "ipython",
    "version": 3
   },
   "file_extension": ".py",
   "mimetype": "text/x-python",
   "name": "python",
   "nbconvert_exporter": "python",
   "pygments_lexer": "ipython3",
   "version": "3.6.3"
  }
 },
 "nbformat": 4,
 "nbformat_minor": 2
}
