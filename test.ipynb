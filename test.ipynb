{
 "cells": [
  {
   "cell_type": "code",
   "execution_count": 2,
   "metadata": {
    "ExecuteTime": {
     "end_time": "2018-11-09T05:39:53.824323Z",
     "start_time": "2018-11-09T05:39:52.461471Z"
    }
   },
   "outputs": [
    {
     "name": "stderr",
     "output_type": "stream",
     "text": [
      "INFO:The model would fit. Moving on\n",
      "INFO:Fetching estimator: RF_RandomForestRegressor_estimator.pkl\n",
      "INFO:Training your model for these params: {'total_memory': [17179869184], 'available_memory': [5660901376], 'num_cpu': [4], 'num_rows': [100000], 'num_features': [10], 'n_estimators': [100], 'max_depth': [200], 'min_samples_split': [10], 'min_samples_leaf': [10], 'min_weight_fraction_leaf': [0.5], 'max_features': ['10'], 'max_leaf_nodes': [10], 'min_impurity_decrease': [10], 'min_impurity_split': [10], 'bootstrap': [True], 'oob_score': [False], 'n_jobs': [10]}\n",
      "INFO:Training your model should take ~ 0.31 seconds\n",
      "INFO:The 95% prediction interval is [0.27, 0.32] seconds\n"
     ]
    },
    {
     "name": "stdout",
     "output_type": "stream",
     "text": [
      "elapsed time: 0.28\n",
      "estimated elapsed time: 0.31. 95% confidence interval: [0.27,0.32]\n"
     ]
    }
   ],
   "source": [
    "from sklearn.ensemble import RandomForestRegressor\n",
    "import numpy as np\n",
    "import time\n",
    "import pandas as pd\n",
    "\n",
    "from scikest.estimate import Estimator\n",
    "\n",
    "# example for rf regressor\n",
    "estimator = Estimator(meta_algo='RF', verbose=3)\n",
    "rf = RandomForestRegressor(bootstrap=True, criterion='mse', max_depth=200,\n",
    "           max_features=10, max_leaf_nodes=10, min_impurity_decrease=10,\n",
    "           min_impurity_split=10, min_samples_leaf=10,\n",
    "           min_samples_split=10, min_weight_fraction_leaf=0.5,\n",
    "           n_estimators=100, n_jobs=10, oob_score=False, random_state=None,\n",
    "           verbose=2, warm_start=False)\n",
    "\n",
    "X,y = np.random.rand(100000,10),np.random.rand(100000,1)\n",
    "# run the estimation\n",
    "est = estimator.estimate_duration(rf, X, y)\n",
    "\n",
    "# compare to the actual training time\n",
    "start_time = time.time()\n",
    "rf.fit(X,y)\n",
    "elapsed_time = time.time() - start_time\n",
    "print(\"elapsed time: {:.2}\".format(elapsed_time))\n",
    "print(\"estimated elapsed time: {:.2}. 95% confidence interval: [{:.2},{:.2}]\".format(est[0], est[1], est[2]))"
   ]
  },
  {
   "cell_type": "code",
   "execution_count": null,
   "metadata": {},
   "outputs": [],
   "source": []
  }
 ],
 "metadata": {
  "kernelspec": {
   "display_name": "Python 3",
   "language": "python",
   "name": "python3"
  },
  "toc": {
   "nav_menu": {},
   "number_sections": true,
   "sideBar": true,
   "skip_h1_title": false,
   "title_cell": "Table of Contents",
   "title_sidebar": "Contents",
   "toc_cell": false,
   "toc_position": {},
   "toc_section_display": true,
   "toc_window_display": false
  }
 },
 "nbformat": 4,
 "nbformat_minor": 2
}
