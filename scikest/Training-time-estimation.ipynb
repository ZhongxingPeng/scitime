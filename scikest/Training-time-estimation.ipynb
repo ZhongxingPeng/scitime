{
 "cells": [
  {
   "cell_type": "code",
   "execution_count": 1,
   "metadata": {},
   "outputs": [],
   "source": [
    "from train import Trainer\n",
    "from sklearn.ensemble import RandomForestRegressor\n",
    "import numpy as np\n",
    "import time\n",
    "import pandas as pd"
   ]
  },
  {
   "cell_type": "code",
   "execution_count": 2,
   "metadata": {
    "collapsed": true
   },
   "outputs": [],
   "source": [
    "from estimate import Estimator"
   ]
  },
  {
   "cell_type": "code",
   "execution_count": 5,
   "metadata": {
    "collapsed": true
   },
   "outputs": [],
   "source": [
    "#Checking number of cores\n",
    "trainer=Trainer(drop_rate=0.9999)"
   ]
  },
  {
   "cell_type": "code",
   "execution_count": 6,
   "metadata": {},
   "outputs": [
    {
     "data": {
      "text/plain": [
       "{'dummy_inputs': ['max_features'],\n",
       " 'external_params': {'num_features': [5, 50, 100],\n",
       "  'num_rows': [100, 1000, 10000]},\n",
       " 'internal_params': {'bootstrap': [True, False],\n",
       "  'max_depth': [10, 50, 100],\n",
       "  'max_features': ['auto', 10, 20, 50, 100],\n",
       "  'max_leaf_nodes': [2, 4, 10],\n",
       "  'min_impurity_decrease': [1, 5, 10],\n",
       "  'min_impurity_split': [1, 5, 10],\n",
       "  'min_samples_leaf': [1, 5, 10],\n",
       "  'min_samples_split': [2, 4, 10],\n",
       "  'min_weight_fraction_leaf': [0.1, 0.25, 0.5],\n",
       "  'n_estimators': [10, 50, 100],\n",
       "  'n_jobs': [1, 2, 5, 8],\n",
       "  'oob_score': [False]}}"
      ]
     },
     "execution_count": 6,
     "metadata": {},
     "output_type": "execute_result"
    }
   ],
   "source": [
    "trainer.params"
   ]
  },
  {
   "cell_type": "code",
   "execution_count": 7,
   "metadata": {
    "collapsed": true
   },
   "outputs": [],
   "source": [
    "trainer.rows_range=[100000]"
   ]
  },
  {
   "cell_type": "code",
   "execution_count": 8,
   "metadata": {},
   "outputs": [
    {
     "name": "stderr",
     "output_type": "stream",
     "text": [
      "2018-10-15 21:41:04,460 - train.Trainer - Generating dummy training durations to create a training set\n",
      "2018-10-15 21:41:04,727 - train.Trainer - data added for {'num_rows': 100, 'num_features': 5, 'n_estimators': 10, 'max_depth': 100, 'min_samples_split': 2, 'min_samples_leaf': 1, 'min_weight_fraction_leaf': 0.1, 'max_features': 'auto', 'max_leaf_nodes': 2, 'min_impurity_decrease': 5, 'min_impurity_split': 10, 'bootstrap': False, 'oob_score': False, 'n_jobs': 2} which outputs 0.11041688919067383 seconds\n",
      "2018-10-15 21:41:04,897 - train.Trainer - data added for {'num_rows': 100, 'num_features': 5, 'n_estimators': 10, 'max_depth': 100, 'min_samples_split': 10, 'min_samples_leaf': 1, 'min_weight_fraction_leaf': 0.1, 'max_features': 'auto', 'max_leaf_nodes': 10, 'min_impurity_decrease': 10, 'min_impurity_split': 10, 'bootstrap': False, 'oob_score': False, 'n_jobs': 5} which outputs 0.11071205139160156 seconds\n",
      "2018-10-15 21:41:05,086 - train.Trainer - data added for {'num_rows': 100, 'num_features': 5, 'n_estimators': 50, 'max_depth': 50, 'min_samples_split': 4, 'min_samples_leaf': 5, 'min_weight_fraction_leaf': 0.5, 'max_features': 'auto', 'max_leaf_nodes': 2, 'min_impurity_decrease': 10, 'min_impurity_split': 1, 'bootstrap': False, 'oob_score': False, 'n_jobs': 1} which outputs 0.03670525550842285 seconds\n",
      "2018-10-15 21:41:05,228 - train.Trainer - data added for {'num_rows': 100, 'num_features': 5, 'n_estimators': 50, 'max_depth': 50, 'min_samples_split': 4, 'min_samples_leaf': 10, 'min_weight_fraction_leaf': 0.1, 'max_features': 'auto', 'max_leaf_nodes': 4, 'min_impurity_decrease': 10, 'min_impurity_split': 10, 'bootstrap': False, 'oob_score': False, 'n_jobs': 8} which outputs 0.13541197776794434 seconds\n",
      "2018-10-15 21:41:05,588 - train.Trainer - data added for {'num_rows': 100, 'num_features': 5, 'n_estimators': 100, 'max_depth': 50, 'min_samples_split': 2, 'min_samples_leaf': 1, 'min_weight_fraction_leaf': 0.1, 'max_features': 'auto', 'max_leaf_nodes': 10, 'min_impurity_decrease': 10, 'min_impurity_split': 10, 'bootstrap': False, 'oob_score': False, 'n_jobs': 2} which outputs 0.16758990287780762 seconds\n",
      "2018-10-15 21:41:05,802 - train.Trainer - data added for {'num_rows': 100, 'num_features': 5, 'n_estimators': 100, 'max_depth': 50, 'min_samples_split': 4, 'min_samples_leaf': 5, 'min_weight_fraction_leaf': 0.5, 'max_features': 'auto', 'max_leaf_nodes': 10, 'min_impurity_decrease': 1, 'min_impurity_split': 10, 'bootstrap': True, 'oob_score': False, 'n_jobs': 5} which outputs 0.16546416282653809 seconds\n",
      "2018-10-15 21:41:05,936 - train.Trainer - data added for {'num_rows': 100, 'num_features': 50, 'n_estimators': 10, 'max_depth': 10, 'min_samples_split': 2, 'min_samples_leaf': 5, 'min_weight_fraction_leaf': 0.1, 'max_features': 10, 'max_leaf_nodes': 10, 'min_impurity_decrease': 10, 'min_impurity_split': 5, 'bootstrap': False, 'oob_score': False, 'n_jobs': 1} which outputs 0.006894826889038086 seconds\n",
      "2018-10-15 21:41:06,061 - train.Trainer - data added for {'num_rows': 100, 'num_features': 50, 'n_estimators': 10, 'max_depth': 10, 'min_samples_split': 2, 'min_samples_leaf': 10, 'min_weight_fraction_leaf': 0.25, 'max_features': 'auto', 'max_leaf_nodes': 10, 'min_impurity_decrease': 1, 'min_impurity_split': 5, 'bootstrap': False, 'oob_score': False, 'n_jobs': 8} which outputs 0.11131095886230469 seconds\n",
      "2018-10-15 21:41:06,315 - train.Trainer - data added for {'num_rows': 100, 'num_features': 50, 'n_estimators': 10, 'max_depth': 100, 'min_samples_split': 2, 'min_samples_leaf': 1, 'min_weight_fraction_leaf': 0.1, 'max_features': 10, 'max_leaf_nodes': 10, 'min_impurity_decrease': 10, 'min_impurity_split': 10, 'bootstrap': False, 'oob_score': False, 'n_jobs': 2} which outputs 0.10791611671447754 seconds\n",
      "2018-10-15 21:41:06,495 - train.Trainer - data added for {'num_rows': 100, 'num_features': 50, 'n_estimators': 10, 'max_depth': 100, 'min_samples_split': 10, 'min_samples_leaf': 5, 'min_weight_fraction_leaf': 0.5, 'max_features': 10, 'max_leaf_nodes': 4, 'min_impurity_decrease': 5, 'min_impurity_split': 1, 'bootstrap': False, 'oob_score': False, 'n_jobs': 5} which outputs 0.1094059944152832 seconds\n",
      "2018-10-15 21:41:06,677 - train.Trainer - data added for {'num_rows': 100, 'num_features': 50, 'n_estimators': 50, 'max_depth': 10, 'min_samples_split': 2, 'min_samples_leaf': 10, 'min_weight_fraction_leaf': 0.25, 'max_features': 'auto', 'max_leaf_nodes': 2, 'min_impurity_decrease': 5, 'min_impurity_split': 10, 'bootstrap': False, 'oob_score': False, 'n_jobs': 2} which outputs 0.14137887954711914 seconds\n",
      "2018-10-15 21:41:06,826 - train.Trainer - data added for {'num_rows': 100, 'num_features': 50, 'n_estimators': 50, 'max_depth': 10, 'min_samples_split': 2, 'min_samples_leaf': 10, 'min_weight_fraction_leaf': 0.5, 'max_features': 20, 'max_leaf_nodes': 2, 'min_impurity_decrease': 1, 'min_impurity_split': 1, 'bootstrap': False, 'oob_score': False, 'n_jobs': 5} which outputs 0.14046406745910645 seconds\n",
      "2018-10-15 21:41:06,999 - train.Trainer - data added for {'num_rows': 100, 'num_features': 50, 'n_estimators': 50, 'max_depth': 10, 'min_samples_split': 10, 'min_samples_leaf': 1, 'min_weight_fraction_leaf': 0.1, 'max_features': 20, 'max_leaf_nodes': 10, 'min_impurity_decrease': 5, 'min_impurity_split': 10, 'bootstrap': True, 'oob_score': False, 'n_jobs': 2} which outputs 0.13645005226135254 seconds\n",
      "2018-10-15 21:41:07,056 - train.Trainer - data added for {'num_rows': 100, 'num_features': 50, 'n_estimators': 50, 'max_depth': 10, 'min_samples_split': 10, 'min_samples_leaf': 5, 'min_weight_fraction_leaf': 0.1, 'max_features': 'auto', 'max_leaf_nodes': 10, 'min_impurity_decrease': 5, 'min_impurity_split': 5, 'bootstrap': False, 'oob_score': False, 'n_jobs': 1} which outputs 0.04336404800415039 seconds\n",
      "2018-10-15 21:41:07,250 - train.Trainer - data added for {'num_rows': 100, 'num_features': 50, 'n_estimators': 50, 'max_depth': 50, 'min_samples_split': 4, 'min_samples_leaf': 5, 'min_weight_fraction_leaf': 0.1, 'max_features': 'auto', 'max_leaf_nodes': 4, 'min_impurity_decrease': 1, 'min_impurity_split': 5, 'bootstrap': False, 'oob_score': False, 'n_jobs': 2} which outputs 0.13442397117614746 seconds\n",
      "2018-10-15 21:41:07,301 - train.Trainer - data added for {'num_rows': 100, 'num_features': 50, 'n_estimators': 50, 'max_depth': 50, 'min_samples_split': 4, 'min_samples_leaf': 5, 'min_weight_fraction_leaf': 0.1, 'max_features': 20, 'max_leaf_nodes': 10, 'min_impurity_decrease': 1, 'min_impurity_split': 10, 'bootstrap': True, 'oob_score': False, 'n_jobs': 1} which outputs 0.04540085792541504 seconds\n",
      "2018-10-15 21:41:07,462 - train.Trainer - data added for {'num_rows': 100, 'num_features': 50, 'n_estimators': 50, 'max_depth': 50, 'min_samples_split': 10, 'min_samples_leaf': 1, 'min_weight_fraction_leaf': 0.5, 'max_features': 10, 'max_leaf_nodes': 2, 'min_impurity_decrease': 1, 'min_impurity_split': 10, 'bootstrap': True, 'oob_score': False, 'n_jobs': 5} which outputs 0.1362926959991455 seconds\n",
      "2018-10-15 21:41:07,607 - train.Trainer - data added for {'num_rows': 100, 'num_features': 50, 'n_estimators': 50, 'max_depth': 50, 'min_samples_split': 10, 'min_samples_leaf': 1, 'min_weight_fraction_leaf': 0.5, 'max_features': 10, 'max_leaf_nodes': 2, 'min_impurity_decrease': 5, 'min_impurity_split': 5, 'bootstrap': True, 'oob_score': False, 'n_jobs': 8} which outputs 0.1424410343170166 seconds\n",
      "2018-10-15 21:41:07,762 - train.Trainer - data added for {'num_rows': 100, 'num_features': 50, 'n_estimators': 50, 'max_depth': 50, 'min_samples_split': 10, 'min_samples_leaf': 5, 'min_weight_fraction_leaf': 0.5, 'max_features': 20, 'max_leaf_nodes': 2, 'min_impurity_decrease': 10, 'min_impurity_split': 1, 'bootstrap': False, 'oob_score': False, 'n_jobs': 8} which outputs 0.14065194129943848 seconds\n",
      "2018-10-15 21:41:07,928 - train.Trainer - data added for {'num_rows': 100, 'num_features': 50, 'n_estimators': 50, 'max_depth': 100, 'min_samples_split': 2, 'min_samples_leaf': 5, 'min_weight_fraction_leaf': 0.25, 'max_features': 10, 'max_leaf_nodes': 10, 'min_impurity_decrease': 10, 'min_impurity_split': 5, 'bootstrap': True, 'oob_score': False, 'n_jobs': 2} which outputs 0.13649892807006836 seconds\n"
     ]
    },
    {
     "name": "stderr",
     "output_type": "stream",
     "text": [
      "2018-10-15 21:41:08,100 - train.Trainer - data added for {'num_rows': 100, 'num_features': 50, 'n_estimators': 50, 'max_depth': 100, 'min_samples_split': 4, 'min_samples_leaf': 5, 'min_weight_fraction_leaf': 0.25, 'max_features': 10, 'max_leaf_nodes': 4, 'min_impurity_decrease': 1, 'min_impurity_split': 5, 'bootstrap': False, 'oob_score': False, 'n_jobs': 5} which outputs 0.13577818870544434 seconds\n",
      "2018-10-15 21:41:08,382 - train.Trainer - data added for {'num_rows': 100, 'num_features': 50, 'n_estimators': 100, 'max_depth': 10, 'min_samples_split': 10, 'min_samples_leaf': 5, 'min_weight_fraction_leaf': 0.1, 'max_features': 20, 'max_leaf_nodes': 2, 'min_impurity_decrease': 5, 'min_impurity_split': 5, 'bootstrap': False, 'oob_score': False, 'n_jobs': 8} which outputs 0.16591596603393555 seconds\n",
      "2018-10-15 21:41:08,603 - train.Trainer - data added for {'num_rows': 100, 'num_features': 50, 'n_estimators': 100, 'max_depth': 50, 'min_samples_split': 4, 'min_samples_leaf': 1, 'min_weight_fraction_leaf': 0.25, 'max_features': 20, 'max_leaf_nodes': 10, 'min_impurity_decrease': 10, 'min_impurity_split': 1, 'bootstrap': False, 'oob_score': False, 'n_jobs': 2} which outputs 0.1658940315246582 seconds\n",
      "2018-10-15 21:41:08,781 - train.Trainer - data added for {'num_rows': 100, 'num_features': 50, 'n_estimators': 100, 'max_depth': 50, 'min_samples_split': 4, 'min_samples_leaf': 1, 'min_weight_fraction_leaf': 0.5, 'max_features': 50, 'max_leaf_nodes': 2, 'min_impurity_decrease': 1, 'min_impurity_split': 5, 'bootstrap': False, 'oob_score': False, 'n_jobs': 8} which outputs 0.17096400260925293 seconds\n"
     ]
    },
    {
     "ename": "KeyboardInterrupt",
     "evalue": "",
     "output_type": "error",
     "traceback": [
      "\u001b[0;31m---------------------------------------------------------------------------\u001b[0m",
      "\u001b[0;31mKeyboardInterrupt\u001b[0m                         Traceback (most recent call last)",
      "\u001b[0;32m<ipython-input-8-94c162cd3750>\u001b[0m in \u001b[0;36m<module>\u001b[0;34m()\u001b[0m\n\u001b[0;32m----> 1\u001b[0;31m \u001b[0mdf\u001b[0m\u001b[0;34m=\u001b[0m\u001b[0mtrainer\u001b[0m\u001b[0;34m.\u001b[0m\u001b[0m_generate_data\u001b[0m\u001b[0;34m(\u001b[0m\u001b[0;34m)\u001b[0m\u001b[0;34m\u001b[0m\u001b[0m\n\u001b[0m",
      "\u001b[0;32m~/Documents/Codes/scikest/scikest/scikest/utils.py\u001b[0m in \u001b[0;36mtimed\u001b[0;34m(*args, **kw)\u001b[0m\n\u001b[1;32m     21\u001b[0m     \u001b[0;32mdef\u001b[0m \u001b[0mtimed\u001b[0m\u001b[0;34m(\u001b[0m\u001b[0;34m*\u001b[0m\u001b[0margs\u001b[0m\u001b[0;34m,\u001b[0m \u001b[0;34m**\u001b[0m\u001b[0mkw\u001b[0m\u001b[0;34m)\u001b[0m\u001b[0;34m:\u001b[0m\u001b[0;34m\u001b[0m\u001b[0m\n\u001b[1;32m     22\u001b[0m         \u001b[0mts\u001b[0m \u001b[0;34m=\u001b[0m \u001b[0mtime\u001b[0m\u001b[0;34m.\u001b[0m\u001b[0mtime\u001b[0m\u001b[0;34m(\u001b[0m\u001b[0;34m)\u001b[0m\u001b[0;34m\u001b[0m\u001b[0m\n\u001b[0;32m---> 23\u001b[0;31m         \u001b[0mresult\u001b[0m \u001b[0;34m=\u001b[0m \u001b[0mmethod\u001b[0m\u001b[0;34m(\u001b[0m\u001b[0;34m*\u001b[0m\u001b[0margs\u001b[0m\u001b[0;34m,\u001b[0m \u001b[0;34m**\u001b[0m\u001b[0mkw\u001b[0m\u001b[0;34m)\u001b[0m\u001b[0;34m\u001b[0m\u001b[0m\n\u001b[0m\u001b[1;32m     24\u001b[0m         \u001b[0mte\u001b[0m \u001b[0;34m=\u001b[0m \u001b[0mtime\u001b[0m\u001b[0;34m.\u001b[0m\u001b[0mtime\u001b[0m\u001b[0;34m(\u001b[0m\u001b[0;34m)\u001b[0m\u001b[0;34m\u001b[0m\u001b[0m\n\u001b[1;32m     25\u001b[0m         \u001b[0mlog\u001b[0m\u001b[0;34m.\u001b[0m\u001b[0mlogger\u001b[0m\u001b[0;34m.\u001b[0m\u001b[0minfo\u001b[0m\u001b[0;34m(\u001b[0m\u001b[0;34mf'{method.__qualname__} took {round(te - ts, 3)}s seconds'\u001b[0m\u001b[0;34m)\u001b[0m\u001b[0;34m\u001b[0m\u001b[0m\n",
      "\u001b[0;32m~/Documents/Codes/scikest/scikest/scikest/train.py\u001b[0m in \u001b[0;36m_generate_data\u001b[0;34m(self)\u001b[0m\n\u001b[1;32m     95\u001b[0m             \u001b[0mrf_parameters_dic\u001b[0m \u001b[0;34m=\u001b[0m \u001b[0mdict\u001b[0m\u001b[0;34m(\u001b[0m\u001b[0mzip\u001b[0m\u001b[0;34m(\u001b[0m\u001b[0mrf_parameters_list\u001b[0m\u001b[0;34m,\u001b[0m \u001b[0mpermutation\u001b[0m\u001b[0;34m[\u001b[0m\u001b[0;36m2\u001b[0m\u001b[0;34m:\u001b[0m\u001b[0;34m]\u001b[0m\u001b[0;34m)\u001b[0m\u001b[0;34m)\u001b[0m\u001b[0;34m\u001b[0m\u001b[0m\n\u001b[1;32m     96\u001b[0m             \u001b[0;31m#Computing only for (1-self.drop_rate) % of the data\u001b[0m\u001b[0;34m\u001b[0m\u001b[0;34m\u001b[0m\u001b[0m\n\u001b[0;32m---> 97\u001b[0;31m             \u001b[0mrandom_value\u001b[0m \u001b[0;34m=\u001b[0m \u001b[0mnp\u001b[0m\u001b[0;34m.\u001b[0m\u001b[0mrandom\u001b[0m\u001b[0;34m.\u001b[0m\u001b[0muniform\u001b[0m\u001b[0;34m(\u001b[0m\u001b[0;34m)\u001b[0m\u001b[0;34m\u001b[0m\u001b[0m\n\u001b[0m\u001b[1;32m     98\u001b[0m             \u001b[0;32mif\u001b[0m \u001b[0mrandom_value\u001b[0m \u001b[0;34m>\u001b[0m \u001b[0mself\u001b[0m\u001b[0;34m.\u001b[0m\u001b[0mdrop_rate\u001b[0m\u001b[0;34m:\u001b[0m\u001b[0;34m\u001b[0m\u001b[0m\n\u001b[1;32m     99\u001b[0m                 \u001b[0;31m#Handling max_features > p case\u001b[0m\u001b[0;34m\u001b[0m\u001b[0;34m\u001b[0m\u001b[0m\n",
      "\u001b[0;31mKeyboardInterrupt\u001b[0m: "
     ]
    }
   ],
   "source": [
    "df=trainer._generate_data()"
   ]
  },
  {
   "cell_type": "code",
   "execution_count": 9,
   "metadata": {},
   "outputs": [
    {
     "name": "stdout",
     "output_type": "stream",
     "text": [
      "/Users/nathantoubiana\n"
     ]
    }
   ],
   "source": [
    "cd"
   ]
  },
  {
   "cell_type": "code",
   "execution_count": 10,
   "metadata": {},
   "outputs": [
    {
     "name": "stdout",
     "output_type": "stream",
     "text": [
      "/Users/nathantoubiana/Downloads\n"
     ]
    }
   ],
   "source": [
    "cd Downloads/"
   ]
  },
  {
   "cell_type": "code",
   "execution_count": 11,
   "metadata": {
    "collapsed": true
   },
   "outputs": [],
   "source": [
    "df=pd.read_csv('result.csv')\n",
    "df2=pd.read_csv('result-2.csv')\n",
    "cols=['num_rows',\n",
    "'num_features','n_estimators',\n",
    "'max_depth',\n",
    "'min_samples_split',\n",
    "'min_samples_leaf',\n",
    "'min_weight_fraction_leaf',\n",
    "'max_features',\n",
    "'max_leaf_nodes',\n",
    "'min_impurity_decrease',\n",
    "'min_impurity_split',\n",
    "'bootstrap',\n",
    "'oob_score',\n",
    "'n_jobs','output']\n",
    "df.columns=cols\n",
    "df2.columns=cols\n",
    "df=pd.concat([df,df2])\n",
    "outputs=df[['output']]\n",
    "del df['output']"
   ]
  },
  {
   "cell_type": "code",
   "execution_count": 12,
   "metadata": {},
   "outputs": [
    {
     "data": {
      "text/plain": [
       "(3623, 14)"
      ]
     },
     "execution_count": 12,
     "metadata": {},
     "output_type": "execute_result"
    }
   ],
   "source": [
    "df.shape"
   ]
  },
  {
   "cell_type": "code",
   "execution_count": 13,
   "metadata": {},
   "outputs": [
    {
     "name": "stdout",
     "output_type": "stream",
     "text": [
      "/Users/nathantoubiana\n"
     ]
    }
   ],
   "source": [
    "cd"
   ]
  },
  {
   "cell_type": "code",
   "execution_count": 14,
   "metadata": {},
   "outputs": [
    {
     "name": "stdout",
     "output_type": "stream",
     "text": [
      "/Users/nathantoubiana/Documents/Codes/scikest/scikest/scikest\n"
     ]
    }
   ],
   "source": [
    "cd Documents/Codes/scikest/scikest/scikest"
   ]
  },
  {
   "cell_type": "code",
   "execution_count": 15,
   "metadata": {
    "collapsed": true
   },
   "outputs": [],
   "source": [
    "trainer=Trainer(algo_estimator='RF')"
   ]
  },
  {
   "cell_type": "code",
   "execution_count": 16,
   "metadata": {},
   "outputs": [
    {
     "data": {
      "text/plain": [
       "(3623, 1)"
      ]
     },
     "execution_count": 16,
     "metadata": {},
     "output_type": "execute_result"
    }
   ],
   "source": [
    "outputs.shape"
   ]
  },
  {
   "cell_type": "code",
   "execution_count": 17,
   "metadata": {},
   "outputs": [
    {
     "data": {
      "text/html": [
       "<div>\n",
       "<style>\n",
       "    .dataframe thead tr:only-child th {\n",
       "        text-align: right;\n",
       "    }\n",
       "\n",
       "    .dataframe thead th {\n",
       "        text-align: left;\n",
       "    }\n",
       "\n",
       "    .dataframe tbody tr th {\n",
       "        vertical-align: top;\n",
       "    }\n",
       "</style>\n",
       "<table border=\"1\" class=\"dataframe\">\n",
       "  <thead>\n",
       "    <tr style=\"text-align: right;\">\n",
       "      <th></th>\n",
       "      <th>num_rows</th>\n",
       "      <th>num_features</th>\n",
       "      <th>n_estimators</th>\n",
       "      <th>max_depth</th>\n",
       "      <th>min_samples_split</th>\n",
       "      <th>min_samples_leaf</th>\n",
       "      <th>min_weight_fraction_leaf</th>\n",
       "      <th>max_features</th>\n",
       "      <th>max_leaf_nodes</th>\n",
       "      <th>min_impurity_decrease</th>\n",
       "      <th>min_impurity_split</th>\n",
       "      <th>bootstrap</th>\n",
       "      <th>oob_score</th>\n",
       "      <th>n_jobs</th>\n",
       "    </tr>\n",
       "  </thead>\n",
       "  <tbody>\n",
       "    <tr>\n",
       "      <th>0</th>\n",
       "      <td>100000</td>\n",
       "      <td>5</td>\n",
       "      <td>10</td>\n",
       "      <td>10</td>\n",
       "      <td>4</td>\n",
       "      <td>1</td>\n",
       "      <td>0.25</td>\n",
       "      <td>auto</td>\n",
       "      <td>10</td>\n",
       "      <td>1</td>\n",
       "      <td>10</td>\n",
       "      <td>False</td>\n",
       "      <td>False</td>\n",
       "      <td>8</td>\n",
       "    </tr>\n",
       "    <tr>\n",
       "      <th>1</th>\n",
       "      <td>100000</td>\n",
       "      <td>5</td>\n",
       "      <td>10</td>\n",
       "      <td>10</td>\n",
       "      <td>10</td>\n",
       "      <td>1</td>\n",
       "      <td>0.25</td>\n",
       "      <td>auto</td>\n",
       "      <td>2</td>\n",
       "      <td>10</td>\n",
       "      <td>5</td>\n",
       "      <td>False</td>\n",
       "      <td>False</td>\n",
       "      <td>2</td>\n",
       "    </tr>\n",
       "    <tr>\n",
       "      <th>2</th>\n",
       "      <td>100000</td>\n",
       "      <td>5</td>\n",
       "      <td>10</td>\n",
       "      <td>10</td>\n",
       "      <td>10</td>\n",
       "      <td>1</td>\n",
       "      <td>0.50</td>\n",
       "      <td>auto</td>\n",
       "      <td>2</td>\n",
       "      <td>10</td>\n",
       "      <td>5</td>\n",
       "      <td>True</td>\n",
       "      <td>False</td>\n",
       "      <td>2</td>\n",
       "    </tr>\n",
       "    <tr>\n",
       "      <th>3</th>\n",
       "      <td>100000</td>\n",
       "      <td>5</td>\n",
       "      <td>10</td>\n",
       "      <td>10</td>\n",
       "      <td>10</td>\n",
       "      <td>5</td>\n",
       "      <td>0.50</td>\n",
       "      <td>auto</td>\n",
       "      <td>10</td>\n",
       "      <td>5</td>\n",
       "      <td>10</td>\n",
       "      <td>False</td>\n",
       "      <td>False</td>\n",
       "      <td>8</td>\n",
       "    </tr>\n",
       "    <tr>\n",
       "      <th>4</th>\n",
       "      <td>100000</td>\n",
       "      <td>5</td>\n",
       "      <td>10</td>\n",
       "      <td>10</td>\n",
       "      <td>10</td>\n",
       "      <td>10</td>\n",
       "      <td>0.50</td>\n",
       "      <td>auto</td>\n",
       "      <td>10</td>\n",
       "      <td>10</td>\n",
       "      <td>5</td>\n",
       "      <td>True</td>\n",
       "      <td>False</td>\n",
       "      <td>5</td>\n",
       "    </tr>\n",
       "  </tbody>\n",
       "</table>\n",
       "</div>"
      ],
      "text/plain": [
       "   num_rows  num_features  n_estimators  max_depth  min_samples_split  \\\n",
       "0    100000             5            10         10                  4   \n",
       "1    100000             5            10         10                 10   \n",
       "2    100000             5            10         10                 10   \n",
       "3    100000             5            10         10                 10   \n",
       "4    100000             5            10         10                 10   \n",
       "\n",
       "   min_samples_leaf  min_weight_fraction_leaf max_features  max_leaf_nodes  \\\n",
       "0                 1                      0.25         auto              10   \n",
       "1                 1                      0.25         auto               2   \n",
       "2                 1                      0.50         auto               2   \n",
       "3                 5                      0.50         auto              10   \n",
       "4                10                      0.50         auto              10   \n",
       "\n",
       "   min_impurity_decrease  min_impurity_split  bootstrap  oob_score  n_jobs  \n",
       "0                      1                  10      False      False       8  \n",
       "1                     10                   5      False      False       2  \n",
       "2                     10                   5       True      False       2  \n",
       "3                      5                  10      False      False       8  \n",
       "4                     10                   5       True      False       5  "
      ]
     },
     "execution_count": 17,
     "metadata": {},
     "output_type": "execute_result"
    }
   ],
   "source": [
    "df.head()"
   ]
  },
  {
   "cell_type": "code",
   "execution_count": 18,
   "metadata": {},
   "outputs": [
    {
     "name": "stderr",
     "output_type": "stream",
     "text": [
      "2018-10-15 21:41:15,154 - train.Trainer - Model inputs: ['num_rows', 'num_features', 'n_estimators', 'max_depth', 'min_samples_split', 'min_samples_leaf', 'min_weight_fraction_leaf', 'max_leaf_nodes', 'min_impurity_decrease', 'min_impurity_split', 'bootstrap', 'oob_score', 'n_jobs', 'max_features_10', 'max_features_20', 'max_features_50', 'max_features_auto']\n",
      "2018-10-15 21:41:15,157 - train.Trainer - Fitting RF to estimate training durations\n",
      "2018-10-15 21:41:15,243 - train.Trainer - Saving RF to RF_estimator.pkl\n",
      "2018-10-15 21:41:15,257 - train.Trainer - R squared on train set is 0.9971902104456678\n",
      "2018-10-15 21:41:15,266 - train.Trainer - MAPE on train set is: 1.4233009059875283\n",
      "2018-10-15 21:41:15,268 - train.Trainer - MAPE on test set is: 3.3827492977152063\n",
      "2018-10-15 21:41:15,269 - train.Trainer - RMSE on train set is 0.852917995996838\n",
      "2018-10-15 21:41:15,271 - train.Trainer - RMSE on test set is 2.69902905736529\n",
      "2018-10-15 21:41:15,273 - utils.LogMixin - Trainer.model_fit took 0.125s seconds\n"
     ]
    },
    {
     "data": {
      "text/plain": [
       "RandomForestRegressor(bootstrap=True, criterion='mse', max_depth=None,\n",
       "           max_features='auto', max_leaf_nodes=None,\n",
       "           min_impurity_decrease=0.0, min_impurity_split=None,\n",
       "           min_samples_leaf=1, min_samples_split=2,\n",
       "           min_weight_fraction_leaf=0.0, n_estimators=10, n_jobs=1,\n",
       "           oob_score=False, random_state=None, verbose=0, warm_start=False)"
      ]
     },
     "execution_count": 18,
     "metadata": {},
     "output_type": "execute_result"
    }
   ],
   "source": [
    "trainer.model_fit(generate_data=False,outputs=outputs,df=df)"
   ]
  },
  {
   "cell_type": "code",
   "execution_count": 19,
   "metadata": {
    "collapsed": true
   },
   "outputs": [],
   "source": [
    "estimator=Estimator(algo_estimator='RF')"
   ]
  },
  {
   "cell_type": "code",
   "execution_count": 20,
   "metadata": {
    "collapsed": true
   },
   "outputs": [],
   "source": [
    "rf= RandomForestRegressor(bootstrap=True, criterion='mse', max_depth=200,\n",
    "           max_features='auto', max_leaf_nodes=10, min_impurity_decrease=10,\n",
    "           min_impurity_split=10, min_samples_leaf=10,\n",
    "           min_samples_split=10, min_weight_fraction_leaf=0.5,\n",
    "           n_estimators=100, n_jobs=1, oob_score=False, random_state=None,\n",
    "           verbose=0, warm_start=False)\n",
    "\n"
   ]
  },
  {
   "cell_type": "code",
   "execution_count": null,
   "metadata": {
    "collapsed": true
   },
   "outputs": [],
   "source": []
  },
  {
   "cell_type": "code",
   "execution_count": 21,
   "metadata": {},
   "outputs": [
    {
     "name": "stderr",
     "output_type": "stream",
     "text": [
      "2018-10-15 21:41:20,265 - estimate.Estimator - Fetching estimator: RF_estimator.pkl\n",
      "2018-10-15 21:41:20,274 - estimate.Estimator - Training your model for these params: {'num_rows': [1000000], 'num_features': [10], 'n_estimators': [100], 'max_depth': [200], 'min_samples_split': [10], 'min_samples_leaf': [10], 'min_weight_fraction_leaf': [0.5], 'max_features': ['auto'], 'max_leaf_nodes': [10], 'min_impurity_decrease': [10], 'min_impurity_split': [10], 'bootstrap': [True], 'oob_score': [False], 'n_jobs': [1]}\n",
      "2018-10-15 21:41:20,287 - estimate.Estimator - Training your model should take ~ 3.30692949295 seconds\n"
     ]
    },
    {
     "data": {
      "text/plain": [
       "array([ 3.30692949])"
      ]
     },
     "execution_count": 21,
     "metadata": {},
     "output_type": "execute_result"
    }
   ],
   "source": [
    "estimator.estimate_duration(np.random.rand(1000000,10),rf)\n"
   ]
  },
  {
   "cell_type": "code",
   "execution_count": 28,
   "metadata": {},
   "outputs": [
    {
     "data": {
      "text/plain": [
       "'RF'"
      ]
     },
     "execution_count": 28,
     "metadata": {},
     "output_type": "execute_result"
    }
   ],
   "source": [
    "estimatorS.algo_estimator"
   ]
  },
  {
   "cell_type": "code",
   "execution_count": 27,
   "metadata": {},
   "outputs": [],
   "source": [
    "X,y=np.random.rand(1000000,10),np.random.rand(1000000,1)\n",
    "start_time = time.time()\n",
    "rf.fit(X,y)\n",
    "elapsed_time = time.time() - start_time"
   ]
  },
  {
   "cell_type": "code",
   "execution_count": 28,
   "metadata": {},
   "outputs": [
    {
     "data": {
      "text/plain": [
       "3.0627760887145996"
      ]
     },
     "execution_count": 28,
     "metadata": {},
     "output_type": "execute_result"
    }
   ],
   "source": [
    "elapsed_time"
   ]
  },
  {
   "cell_type": "code",
   "execution_count": null,
   "metadata": {
    "collapsed": true
   },
   "outputs": [],
   "source": []
  }
 ],
 "metadata": {
  "kernelspec": {
   "display_name": "Python 3",
   "language": "python",
   "name": "python3"
  },
  "language_info": {
   "codemirror_mode": {
    "name": "ipython",
    "version": 3
   },
   "file_extension": ".py",
   "mimetype": "text/x-python",
   "name": "python",
   "nbconvert_exporter": "python",
   "pygments_lexer": "ipython3",
   "version": "3.6.3"
  }
 },
 "nbformat": 4,
 "nbformat_minor": 2
}
