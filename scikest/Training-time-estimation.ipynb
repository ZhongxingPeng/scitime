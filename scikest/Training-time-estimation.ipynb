{
 "cells": [
  {
   "cell_type": "code",
   "execution_count": 1,
   "metadata": {},
   "outputs": [],
   "source": [
    "from train import Trainer\n",
    "from sklearn.ensemble import RandomForestRegressor\n",
    "import numpy as np\n",
    "import time\n",
    "import pandas as pd"
   ]
  },
  {
   "cell_type": "code",
   "execution_count": 2,
   "metadata": {
    "collapsed": true
   },
   "outputs": [],
   "source": [
    "from estimate import Estimator"
   ]
  },
  {
   "cell_type": "code",
   "execution_count": 3,
   "metadata": {
    "collapsed": true
   },
   "outputs": [],
   "source": [
    "#Checking number of cores\n",
    "trainer=Trainer(drop_rate=0.9999)"
   ]
  },
  {
   "cell_type": "code",
   "execution_count": 4,
   "metadata": {},
   "outputs": [
    {
     "data": {
      "text/plain": [
       "{'dummy_inputs': ['max_features'],\n",
       " 'external_params': {'num_features': [5, 50, 100],\n",
       "  'num_rows': [100, 1000, 10000]},\n",
       " 'internal_params': {'bootstrap': [True, False],\n",
       "  'max_depth': [10, 50, 100],\n",
       "  'max_features': ['auto', 10, 20, 50, 100],\n",
       "  'max_leaf_nodes': [2, 4, 10],\n",
       "  'min_impurity_decrease': [1, 5, 10],\n",
       "  'min_impurity_split': [1, 5, 10],\n",
       "  'min_samples_leaf': [1, 5, 10],\n",
       "  'min_samples_split': [2, 4, 10],\n",
       "  'min_weight_fraction_leaf': [0.1, 0.25, 0.5],\n",
       "  'n_estimators': [10, 50, 100],\n",
       "  'n_jobs': [1, 2, 5, 8],\n",
       "  'oob_score': [False]}}"
      ]
     },
     "execution_count": 4,
     "metadata": {},
     "output_type": "execute_result"
    }
   ],
   "source": [
    "trainer.params"
   ]
  },
  {
   "cell_type": "code",
   "execution_count": 5,
   "metadata": {
    "collapsed": true
   },
   "outputs": [],
   "source": [
    "trainer.rows_range=[100000]"
   ]
  },
  {
   "cell_type": "code",
   "execution_count": 6,
   "metadata": {},
   "outputs": [
    {
     "name": "stderr",
     "output_type": "stream",
     "text": [
      "2018-10-15 21:56:25,432 - train.Trainer - Generating dummy training durations to create a training set\n",
      "2018-10-15 21:56:25,759 - train.Trainer - data added for {'num_rows': 100, 'num_features': 5, 'n_estimators': 10, 'max_depth': 100, 'min_samples_split': 4, 'min_samples_leaf': 10, 'min_weight_fraction_leaf': 0.5, 'max_features': 'auto', 'max_leaf_nodes': 4, 'min_impurity_decrease': 5, 'min_impurity_split': 1, 'bootstrap': False, 'oob_score': False, 'n_jobs': 8} which outputs 0.11543822288513184 seconds\n",
      "2018-10-15 21:56:26,130 - train.Trainer - data added for {'num_rows': 100, 'num_features': 5, 'n_estimators': 50, 'max_depth': 100, 'min_samples_split': 4, 'min_samples_leaf': 10, 'min_weight_fraction_leaf': 0.25, 'max_features': 'auto', 'max_leaf_nodes': 4, 'min_impurity_decrease': 1, 'min_impurity_split': 5, 'bootstrap': False, 'oob_score': False, 'n_jobs': 2} which outputs 0.13212299346923828 seconds\n",
      "2018-10-15 21:56:26,289 - train.Trainer - data added for {'num_rows': 100, 'num_features': 5, 'n_estimators': 50, 'max_depth': 100, 'min_samples_split': 10, 'min_samples_leaf': 5, 'min_weight_fraction_leaf': 0.1, 'max_features': 'auto', 'max_leaf_nodes': 2, 'min_impurity_decrease': 10, 'min_impurity_split': 5, 'bootstrap': True, 'oob_score': False, 'n_jobs': 5} which outputs 0.13723492622375488 seconds\n",
      "2018-10-15 21:56:26,633 - train.Trainer - data added for {'num_rows': 100, 'num_features': 5, 'n_estimators': 100, 'max_depth': 50, 'min_samples_split': 10, 'min_samples_leaf': 10, 'min_weight_fraction_leaf': 0.25, 'max_features': 'auto', 'max_leaf_nodes': 10, 'min_impurity_decrease': 10, 'min_impurity_split': 1, 'bootstrap': False, 'oob_score': False, 'n_jobs': 2} which outputs 0.16691184043884277 seconds\n",
      "2018-10-15 21:56:26,991 - train.Trainer - data added for {'num_rows': 100, 'num_features': 50, 'n_estimators': 10, 'max_depth': 50, 'min_samples_split': 10, 'min_samples_leaf': 5, 'min_weight_fraction_leaf': 0.5, 'max_features': 20, 'max_leaf_nodes': 4, 'min_impurity_decrease': 10, 'min_impurity_split': 1, 'bootstrap': False, 'oob_score': False, 'n_jobs': 2} which outputs 0.10964393615722656 seconds\n",
      "2018-10-15 21:56:27,156 - train.Trainer - data added for {'num_rows': 100, 'num_features': 50, 'n_estimators': 10, 'max_depth': 100, 'min_samples_split': 4, 'min_samples_leaf': 5, 'min_weight_fraction_leaf': 0.25, 'max_features': 'auto', 'max_leaf_nodes': 2, 'min_impurity_decrease': 10, 'min_impurity_split': 10, 'bootstrap': False, 'oob_score': False, 'n_jobs': 8} which outputs 0.11221003532409668 seconds\n",
      "2018-10-15 21:56:27,282 - train.Trainer - data added for {'num_rows': 100, 'num_features': 50, 'n_estimators': 10, 'max_depth': 100, 'min_samples_split': 4, 'min_samples_leaf': 10, 'min_weight_fraction_leaf': 0.25, 'max_features': 10, 'max_leaf_nodes': 4, 'min_impurity_decrease': 5, 'min_impurity_split': 1, 'bootstrap': False, 'oob_score': False, 'n_jobs': 8} which outputs 0.10965776443481445 seconds\n",
      "2018-10-15 21:56:27,413 - train.Trainer - data added for {'num_rows': 100, 'num_features': 50, 'n_estimators': 10, 'max_depth': 100, 'min_samples_split': 10, 'min_samples_leaf': 1, 'min_weight_fraction_leaf': 0.5, 'max_features': 50, 'max_leaf_nodes': 10, 'min_impurity_decrease': 1, 'min_impurity_split': 5, 'bootstrap': True, 'oob_score': False, 'n_jobs': 5} which outputs 0.10907793045043945 seconds\n",
      "2018-10-15 21:56:27,501 - train.Trainer - data added for {'num_rows': 100, 'num_features': 50, 'n_estimators': 50, 'max_depth': 10, 'min_samples_split': 2, 'min_samples_leaf': 10, 'min_weight_fraction_leaf': 0.1, 'max_features': 10, 'max_leaf_nodes': 2, 'min_impurity_decrease': 1, 'min_impurity_split': 5, 'bootstrap': True, 'oob_score': False, 'n_jobs': 1} which outputs 0.04024076461791992 seconds\n",
      "2018-10-15 21:56:27,674 - train.Trainer - data added for {'num_rows': 100, 'num_features': 50, 'n_estimators': 50, 'max_depth': 10, 'min_samples_split': 4, 'min_samples_leaf': 10, 'min_weight_fraction_leaf': 0.5, 'max_features': 50, 'max_leaf_nodes': 4, 'min_impurity_decrease': 5, 'min_impurity_split': 1, 'bootstrap': False, 'oob_score': False, 'n_jobs': 8} which outputs 0.13633203506469727 seconds\n",
      "2018-10-15 21:56:27,841 - train.Trainer - data added for {'num_rows': 100, 'num_features': 50, 'n_estimators': 50, 'max_depth': 10, 'min_samples_split': 10, 'min_samples_leaf': 5, 'min_weight_fraction_leaf': 0.25, 'max_features': 20, 'max_leaf_nodes': 2, 'min_impurity_decrease': 10, 'min_impurity_split': 1, 'bootstrap': True, 'oob_score': False, 'n_jobs': 5} which outputs 0.14521098136901855 seconds\n",
      "2018-10-15 21:56:27,996 - train.Trainer - data added for {'num_rows': 100, 'num_features': 50, 'n_estimators': 50, 'max_depth': 10, 'min_samples_split': 10, 'min_samples_leaf': 10, 'min_weight_fraction_leaf': 0.25, 'max_features': 20, 'max_leaf_nodes': 4, 'min_impurity_decrease': 5, 'min_impurity_split': 1, 'bootstrap': False, 'oob_score': False, 'n_jobs': 8} which outputs 0.13859319686889648 seconds\n",
      "2018-10-15 21:56:28,152 - train.Trainer - data added for {'num_rows': 100, 'num_features': 50, 'n_estimators': 50, 'max_depth': 50, 'min_samples_split': 2, 'min_samples_leaf': 1, 'min_weight_fraction_leaf': 0.25, 'max_features': 50, 'max_leaf_nodes': 10, 'min_impurity_decrease': 10, 'min_impurity_split': 1, 'bootstrap': False, 'oob_score': False, 'n_jobs': 2} which outputs 0.1388700008392334 seconds\n",
      "2018-10-15 21:56:28,230 - train.Trainer - data added for {'num_rows': 100, 'num_features': 50, 'n_estimators': 50, 'max_depth': 50, 'min_samples_split': 4, 'min_samples_leaf': 1, 'min_weight_fraction_leaf': 0.25, 'max_features': 10, 'max_leaf_nodes': 10, 'min_impurity_decrease': 10, 'min_impurity_split': 5, 'bootstrap': True, 'oob_score': False, 'n_jobs': 1} which outputs 0.044180870056152344 seconds\n",
      "2018-10-15 21:56:28,383 - train.Trainer - data added for {'num_rows': 100, 'num_features': 50, 'n_estimators': 50, 'max_depth': 50, 'min_samples_split': 4, 'min_samples_leaf': 5, 'min_weight_fraction_leaf': 0.25, 'max_features': 10, 'max_leaf_nodes': 10, 'min_impurity_decrease': 5, 'min_impurity_split': 5, 'bootstrap': True, 'oob_score': False, 'n_jobs': 5} which outputs 0.14037418365478516 seconds\n",
      "2018-10-15 21:56:28,442 - train.Trainer - data added for {'num_rows': 100, 'num_features': 50, 'n_estimators': 50, 'max_depth': 50, 'min_samples_split': 4, 'min_samples_leaf': 5, 'min_weight_fraction_leaf': 0.25, 'max_features': 50, 'max_leaf_nodes': 10, 'min_impurity_decrease': 10, 'min_impurity_split': 1, 'bootstrap': True, 'oob_score': False, 'n_jobs': 1} which outputs 0.05323314666748047 seconds\n",
      "2018-10-15 21:56:28,614 - train.Trainer - data added for {'num_rows': 100, 'num_features': 50, 'n_estimators': 50, 'max_depth': 50, 'min_samples_split': 10, 'min_samples_leaf': 10, 'min_weight_fraction_leaf': 0.5, 'max_features': 50, 'max_leaf_nodes': 4, 'min_impurity_decrease': 10, 'min_impurity_split': 1, 'bootstrap': True, 'oob_score': False, 'n_jobs': 2} which outputs 0.13227009773254395 seconds\n",
      "2018-10-15 21:56:28,694 - train.Trainer - data added for {'num_rows': 100, 'num_features': 50, 'n_estimators': 50, 'max_depth': 100, 'min_samples_split': 4, 'min_samples_leaf': 1, 'min_weight_fraction_leaf': 0.25, 'max_features': 20, 'max_leaf_nodes': 10, 'min_impurity_decrease': 10, 'min_impurity_split': 5, 'bootstrap': True, 'oob_score': False, 'n_jobs': 1} which outputs 0.03595590591430664 seconds\n",
      "2018-10-15 21:56:28,925 - train.Trainer - data added for {'num_rows': 100, 'num_features': 50, 'n_estimators': 100, 'max_depth': 10, 'min_samples_split': 2, 'min_samples_leaf': 10, 'min_weight_fraction_leaf': 0.1, 'max_features': 10, 'max_leaf_nodes': 4, 'min_impurity_decrease': 10, 'min_impurity_split': 10, 'bootstrap': False, 'oob_score': False, 'n_jobs': 2} which outputs 0.16536903381347656 seconds\n",
      "2018-10-15 21:56:29,139 - train.Trainer - data added for {'num_rows': 100, 'num_features': 50, 'n_estimators': 100, 'max_depth': 50, 'min_samples_split': 10, 'min_samples_leaf': 5, 'min_weight_fraction_leaf': 0.5, 'max_features': 10, 'max_leaf_nodes': 4, 'min_impurity_decrease': 10, 'min_impurity_split': 5, 'bootstrap': True, 'oob_score': False, 'n_jobs': 1} which outputs 0.07249999046325684 seconds\n",
      "2018-10-15 21:56:29,353 - train.Trainer - data added for {'num_rows': 100, 'num_features': 50, 'n_estimators': 100, 'max_depth': 100, 'min_samples_split': 4, 'min_samples_leaf': 1, 'min_weight_fraction_leaf': 0.5, 'max_features': 50, 'max_leaf_nodes': 2, 'min_impurity_decrease': 5, 'min_impurity_split': 1, 'bootstrap': True, 'oob_score': False, 'n_jobs': 2} which outputs 0.1663072109222412 seconds\n"
     ]
    },
    {
     "name": "stderr",
     "output_type": "stream",
     "text": [
      "2018-10-15 21:56:29,538 - train.Trainer - data added for {'num_rows': 100, 'num_features': 100, 'n_estimators': 10, 'max_depth': 10, 'min_samples_split': 2, 'min_samples_leaf': 5, 'min_weight_fraction_leaf': 0.5, 'max_features': 50, 'max_leaf_nodes': 2, 'min_impurity_decrease': 1, 'min_impurity_split': 5, 'bootstrap': True, 'oob_score': False, 'n_jobs': 2} which outputs 0.1116793155670166 seconds\n",
      "2018-10-15 21:56:29,691 - train.Trainer - data added for {'num_rows': 100, 'num_features': 100, 'n_estimators': 10, 'max_depth': 10, 'min_samples_split': 4, 'min_samples_leaf': 10, 'min_weight_fraction_leaf': 0.25, 'max_features': 100, 'max_leaf_nodes': 10, 'min_impurity_decrease': 10, 'min_impurity_split': 10, 'bootstrap': False, 'oob_score': False, 'n_jobs': 5} which outputs 0.10865926742553711 seconds\n",
      "2018-10-15 21:56:29,831 - train.Trainer - data added for {'num_rows': 100, 'num_features': 100, 'n_estimators': 10, 'max_depth': 10, 'min_samples_split': 10, 'min_samples_leaf': 5, 'min_weight_fraction_leaf': 0.5, 'max_features': 10, 'max_leaf_nodes': 4, 'min_impurity_decrease': 1, 'min_impurity_split': 10, 'bootstrap': False, 'oob_score': False, 'n_jobs': 8} which outputs 0.11429691314697266 seconds\n"
     ]
    },
    {
     "ename": "KeyboardInterrupt",
     "evalue": "",
     "output_type": "error",
     "traceback": [
      "\u001b[0;31m---------------------------------------------------------------------------\u001b[0m",
      "\u001b[0;31mKeyboardInterrupt\u001b[0m                         Traceback (most recent call last)",
      "\u001b[0;32m<ipython-input-6-94c162cd3750>\u001b[0m in \u001b[0;36m<module>\u001b[0;34m()\u001b[0m\n\u001b[0;32m----> 1\u001b[0;31m \u001b[0mdf\u001b[0m\u001b[0;34m=\u001b[0m\u001b[0mtrainer\u001b[0m\u001b[0;34m.\u001b[0m\u001b[0m_generate_data\u001b[0m\u001b[0;34m(\u001b[0m\u001b[0;34m)\u001b[0m\u001b[0;34m\u001b[0m\u001b[0m\n\u001b[0m",
      "\u001b[0;32m~/Documents/Codes/scikest/scikest/scikest/utils.py\u001b[0m in \u001b[0;36mtimed\u001b[0;34m(*args, **kw)\u001b[0m\n\u001b[1;32m     21\u001b[0m     \u001b[0;32mdef\u001b[0m \u001b[0mtimed\u001b[0m\u001b[0;34m(\u001b[0m\u001b[0;34m*\u001b[0m\u001b[0margs\u001b[0m\u001b[0;34m,\u001b[0m \u001b[0;34m**\u001b[0m\u001b[0mkw\u001b[0m\u001b[0;34m)\u001b[0m\u001b[0;34m:\u001b[0m\u001b[0;34m\u001b[0m\u001b[0m\n\u001b[1;32m     22\u001b[0m         \u001b[0mts\u001b[0m \u001b[0;34m=\u001b[0m \u001b[0mtime\u001b[0m\u001b[0;34m.\u001b[0m\u001b[0mtime\u001b[0m\u001b[0;34m(\u001b[0m\u001b[0;34m)\u001b[0m\u001b[0;34m\u001b[0m\u001b[0m\n\u001b[0;32m---> 23\u001b[0;31m         \u001b[0mresult\u001b[0m \u001b[0;34m=\u001b[0m \u001b[0mmethod\u001b[0m\u001b[0;34m(\u001b[0m\u001b[0;34m*\u001b[0m\u001b[0margs\u001b[0m\u001b[0;34m,\u001b[0m \u001b[0;34m**\u001b[0m\u001b[0mkw\u001b[0m\u001b[0;34m)\u001b[0m\u001b[0;34m\u001b[0m\u001b[0m\n\u001b[0m\u001b[1;32m     24\u001b[0m         \u001b[0mte\u001b[0m \u001b[0;34m=\u001b[0m \u001b[0mtime\u001b[0m\u001b[0;34m.\u001b[0m\u001b[0mtime\u001b[0m\u001b[0;34m(\u001b[0m\u001b[0;34m)\u001b[0m\u001b[0;34m\u001b[0m\u001b[0m\n\u001b[1;32m     25\u001b[0m         \u001b[0mlog\u001b[0m\u001b[0;34m.\u001b[0m\u001b[0mlogger\u001b[0m\u001b[0;34m.\u001b[0m\u001b[0minfo\u001b[0m\u001b[0;34m(\u001b[0m\u001b[0;34mf'{method.__qualname__} took {round(te - ts, 3)}s seconds'\u001b[0m\u001b[0;34m)\u001b[0m\u001b[0;34m\u001b[0m\u001b[0m\n",
      "\u001b[0;32m~/Documents/Codes/scikest/scikest/scikest/train.py\u001b[0m in \u001b[0;36m_generate_data\u001b[0;34m(self)\u001b[0m\n\u001b[1;32m     93\u001b[0m             \u001b[0mf\u001b[0m \u001b[0;34m=\u001b[0m \u001b[0mpermutation\u001b[0m\u001b[0;34m[\u001b[0m\u001b[0;36m7\u001b[0m\u001b[0;34m]\u001b[0m\u001b[0;34m\u001b[0m\u001b[0m\n\u001b[1;32m     94\u001b[0m \u001b[0;34m\u001b[0m\u001b[0m\n\u001b[0;32m---> 95\u001b[0;31m             \u001b[0mrf_parameters_dic\u001b[0m \u001b[0;34m=\u001b[0m \u001b[0mdict\u001b[0m\u001b[0;34m(\u001b[0m\u001b[0mzip\u001b[0m\u001b[0;34m(\u001b[0m\u001b[0mrf_parameters_list\u001b[0m\u001b[0;34m,\u001b[0m \u001b[0mpermutation\u001b[0m\u001b[0;34m[\u001b[0m\u001b[0;36m2\u001b[0m\u001b[0;34m:\u001b[0m\u001b[0;34m]\u001b[0m\u001b[0;34m)\u001b[0m\u001b[0;34m)\u001b[0m\u001b[0;34m\u001b[0m\u001b[0m\n\u001b[0m\u001b[1;32m     96\u001b[0m             \u001b[0;31m#Computing only for (1-self.drop_rate) % of the data\u001b[0m\u001b[0;34m\u001b[0m\u001b[0;34m\u001b[0m\u001b[0m\n\u001b[1;32m     97\u001b[0m             \u001b[0mrandom_value\u001b[0m \u001b[0;34m=\u001b[0m \u001b[0mnp\u001b[0m\u001b[0;34m.\u001b[0m\u001b[0mrandom\u001b[0m\u001b[0;34m.\u001b[0m\u001b[0muniform\u001b[0m\u001b[0;34m(\u001b[0m\u001b[0;34m)\u001b[0m\u001b[0;34m\u001b[0m\u001b[0m\n",
      "\u001b[0;31mKeyboardInterrupt\u001b[0m: "
     ]
    }
   ],
   "source": [
    "df=trainer._generate_data()"
   ]
  },
  {
   "cell_type": "code",
   "execution_count": 6,
   "metadata": {},
   "outputs": [
    {
     "name": "stdout",
     "output_type": "stream",
     "text": [
      "/Users/nathantoubiana\n"
     ]
    }
   ],
   "source": [
    "cd"
   ]
  },
  {
   "cell_type": "code",
   "execution_count": 7,
   "metadata": {},
   "outputs": [
    {
     "name": "stdout",
     "output_type": "stream",
     "text": [
      "/Users/nathantoubiana/Downloads\n"
     ]
    }
   ],
   "source": [
    "cd Downloads/"
   ]
  },
  {
   "cell_type": "code",
   "execution_count": 8,
   "metadata": {},
   "outputs": [],
   "source": [
    "df=pd.read_csv('result.csv')\n",
    "df2=pd.read_csv('result-2.csv')\n",
    "cols=['num_rows',\n",
    "'num_features','n_estimators',\n",
    "'max_depth',\n",
    "'min_samples_split',\n",
    "'min_samples_leaf',\n",
    "'min_weight_fraction_leaf',\n",
    "'max_features',\n",
    "'max_leaf_nodes',\n",
    "'min_impurity_decrease',\n",
    "'min_impurity_split',\n",
    "'bootstrap',\n",
    "'oob_score',\n",
    "'n_jobs','output']\n",
    "df.columns=cols\n",
    "df2.columns=cols\n",
    "df=pd.concat([df,df2])\n",
    "outputs=df[['output']]\n",
    "del df['output']"
   ]
  },
  {
   "cell_type": "code",
   "execution_count": 9,
   "metadata": {},
   "outputs": [
    {
     "data": {
      "text/plain": [
       "(3623, 14)"
      ]
     },
     "execution_count": 9,
     "metadata": {},
     "output_type": "execute_result"
    }
   ],
   "source": [
    "df.shape"
   ]
  },
  {
   "cell_type": "code",
   "execution_count": 10,
   "metadata": {},
   "outputs": [
    {
     "name": "stdout",
     "output_type": "stream",
     "text": [
      "/Users/nathantoubiana\n"
     ]
    }
   ],
   "source": [
    "cd"
   ]
  },
  {
   "cell_type": "code",
   "execution_count": 11,
   "metadata": {},
   "outputs": [
    {
     "name": "stdout",
     "output_type": "stream",
     "text": [
      "/Users/nathantoubiana/Documents/Codes/scikest/scikest/scikest\n"
     ]
    }
   ],
   "source": [
    "cd Documents/Codes/scikest/scikest/scikest"
   ]
  },
  {
   "cell_type": "code",
   "execution_count": 12,
   "metadata": {
    "collapsed": true
   },
   "outputs": [],
   "source": [
    "trainer=Trainer(algo_estimator='RF')"
   ]
  },
  {
   "cell_type": "code",
   "execution_count": 13,
   "metadata": {},
   "outputs": [
    {
     "data": {
      "text/plain": [
       "(3623, 1)"
      ]
     },
     "execution_count": 13,
     "metadata": {},
     "output_type": "execute_result"
    }
   ],
   "source": [
    "outputs.shape"
   ]
  },
  {
   "cell_type": "code",
   "execution_count": 14,
   "metadata": {},
   "outputs": [
    {
     "data": {
      "text/html": [
       "<div>\n",
       "<style>\n",
       "    .dataframe thead tr:only-child th {\n",
       "        text-align: right;\n",
       "    }\n",
       "\n",
       "    .dataframe thead th {\n",
       "        text-align: left;\n",
       "    }\n",
       "\n",
       "    .dataframe tbody tr th {\n",
       "        vertical-align: top;\n",
       "    }\n",
       "</style>\n",
       "<table border=\"1\" class=\"dataframe\">\n",
       "  <thead>\n",
       "    <tr style=\"text-align: right;\">\n",
       "      <th></th>\n",
       "      <th>num_rows</th>\n",
       "      <th>num_features</th>\n",
       "      <th>n_estimators</th>\n",
       "      <th>max_depth</th>\n",
       "      <th>min_samples_split</th>\n",
       "      <th>min_samples_leaf</th>\n",
       "      <th>min_weight_fraction_leaf</th>\n",
       "      <th>max_features</th>\n",
       "      <th>max_leaf_nodes</th>\n",
       "      <th>min_impurity_decrease</th>\n",
       "      <th>min_impurity_split</th>\n",
       "      <th>bootstrap</th>\n",
       "      <th>oob_score</th>\n",
       "      <th>n_jobs</th>\n",
       "    </tr>\n",
       "  </thead>\n",
       "  <tbody>\n",
       "    <tr>\n",
       "      <th>0</th>\n",
       "      <td>100000</td>\n",
       "      <td>5</td>\n",
       "      <td>10</td>\n",
       "      <td>10</td>\n",
       "      <td>4</td>\n",
       "      <td>1</td>\n",
       "      <td>0.25</td>\n",
       "      <td>auto</td>\n",
       "      <td>10</td>\n",
       "      <td>1</td>\n",
       "      <td>10</td>\n",
       "      <td>False</td>\n",
       "      <td>False</td>\n",
       "      <td>8</td>\n",
       "    </tr>\n",
       "    <tr>\n",
       "      <th>1</th>\n",
       "      <td>100000</td>\n",
       "      <td>5</td>\n",
       "      <td>10</td>\n",
       "      <td>10</td>\n",
       "      <td>10</td>\n",
       "      <td>1</td>\n",
       "      <td>0.25</td>\n",
       "      <td>auto</td>\n",
       "      <td>2</td>\n",
       "      <td>10</td>\n",
       "      <td>5</td>\n",
       "      <td>False</td>\n",
       "      <td>False</td>\n",
       "      <td>2</td>\n",
       "    </tr>\n",
       "    <tr>\n",
       "      <th>2</th>\n",
       "      <td>100000</td>\n",
       "      <td>5</td>\n",
       "      <td>10</td>\n",
       "      <td>10</td>\n",
       "      <td>10</td>\n",
       "      <td>1</td>\n",
       "      <td>0.50</td>\n",
       "      <td>auto</td>\n",
       "      <td>2</td>\n",
       "      <td>10</td>\n",
       "      <td>5</td>\n",
       "      <td>True</td>\n",
       "      <td>False</td>\n",
       "      <td>2</td>\n",
       "    </tr>\n",
       "    <tr>\n",
       "      <th>3</th>\n",
       "      <td>100000</td>\n",
       "      <td>5</td>\n",
       "      <td>10</td>\n",
       "      <td>10</td>\n",
       "      <td>10</td>\n",
       "      <td>5</td>\n",
       "      <td>0.50</td>\n",
       "      <td>auto</td>\n",
       "      <td>10</td>\n",
       "      <td>5</td>\n",
       "      <td>10</td>\n",
       "      <td>False</td>\n",
       "      <td>False</td>\n",
       "      <td>8</td>\n",
       "    </tr>\n",
       "    <tr>\n",
       "      <th>4</th>\n",
       "      <td>100000</td>\n",
       "      <td>5</td>\n",
       "      <td>10</td>\n",
       "      <td>10</td>\n",
       "      <td>10</td>\n",
       "      <td>10</td>\n",
       "      <td>0.50</td>\n",
       "      <td>auto</td>\n",
       "      <td>10</td>\n",
       "      <td>10</td>\n",
       "      <td>5</td>\n",
       "      <td>True</td>\n",
       "      <td>False</td>\n",
       "      <td>5</td>\n",
       "    </tr>\n",
       "  </tbody>\n",
       "</table>\n",
       "</div>"
      ],
      "text/plain": [
       "   num_rows  num_features  n_estimators  max_depth  min_samples_split  \\\n",
       "0    100000             5            10         10                  4   \n",
       "1    100000             5            10         10                 10   \n",
       "2    100000             5            10         10                 10   \n",
       "3    100000             5            10         10                 10   \n",
       "4    100000             5            10         10                 10   \n",
       "\n",
       "   min_samples_leaf  min_weight_fraction_leaf max_features  max_leaf_nodes  \\\n",
       "0                 1                      0.25         auto              10   \n",
       "1                 1                      0.25         auto               2   \n",
       "2                 1                      0.50         auto               2   \n",
       "3                 5                      0.50         auto              10   \n",
       "4                10                      0.50         auto              10   \n",
       "\n",
       "   min_impurity_decrease  min_impurity_split  bootstrap  oob_score  n_jobs  \n",
       "0                      1                  10      False      False       8  \n",
       "1                     10                   5      False      False       2  \n",
       "2                     10                   5       True      False       2  \n",
       "3                      5                  10      False      False       8  \n",
       "4                     10                   5       True      False       5  "
      ]
     },
     "execution_count": 14,
     "metadata": {},
     "output_type": "execute_result"
    }
   ],
   "source": [
    "df.head()"
   ]
  },
  {
   "cell_type": "code",
   "execution_count": 15,
   "metadata": {},
   "outputs": [
    {
     "name": "stderr",
     "output_type": "stream",
     "text": [
      "2018-10-15 21:59:51,552 - train.Trainer - Model inputs: ['num_rows', 'num_features', 'n_estimators', 'max_depth', 'min_samples_split', 'min_samples_leaf', 'min_weight_fraction_leaf', 'max_leaf_nodes', 'min_impurity_decrease', 'min_impurity_split', 'bootstrap', 'oob_score', 'n_jobs', 'max_features_10', 'max_features_20', 'max_features_50', 'max_features_auto']\n",
      "2018-10-15 21:59:51,553 - train.Trainer - Fitting RF to estimate training durations\n",
      "2018-10-15 21:59:51,648 - train.Trainer - Saving RF to RF_estimator.pkl\n",
      "2018-10-15 21:59:51,663 - train.Trainer - R squared on train set is 0.9981986948441234\n",
      "2018-10-15 21:59:51,673 - train.Trainer - \n",
      "            MAPE on train set is: 1.366137381426701\n",
      "            MAPE on test set is: 3.4325045643472265 \n",
      "            RMSE on train set is 0.6829108724437031 \n",
      "            RMSE on test set is 2.2672583540300644 \n",
      "2018-10-15 21:59:51,675 - utils.LogMixin - Trainer.model_fit took 0.129s seconds\n"
     ]
    },
    {
     "data": {
      "text/plain": [
       "RandomForestRegressor(bootstrap=True, criterion='mse', max_depth=None,\n",
       "           max_features='auto', max_leaf_nodes=None,\n",
       "           min_impurity_decrease=0.0, min_impurity_split=None,\n",
       "           min_samples_leaf=1, min_samples_split=2,\n",
       "           min_weight_fraction_leaf=0.0, n_estimators=10, n_jobs=1,\n",
       "           oob_score=False, random_state=None, verbose=0, warm_start=False)"
      ]
     },
     "execution_count": 15,
     "metadata": {},
     "output_type": "execute_result"
    }
   ],
   "source": [
    "trainer.model_fit(generate_data=False,outputs=outputs,df=df)"
   ]
  },
  {
   "cell_type": "code",
   "execution_count": 6,
   "metadata": {
    "collapsed": true
   },
   "outputs": [],
   "source": [
    "estimator=Estimator(algo_estimator='RF')"
   ]
  },
  {
   "cell_type": "code",
   "execution_count": 7,
   "metadata": {
    "collapsed": true
   },
   "outputs": [],
   "source": [
    "rf= RandomForestRegressor(bootstrap=True, criterion='mse', max_depth=200,\n",
    "           max_features='auto', max_leaf_nodes=10, min_impurity_decrease=10,\n",
    "           min_impurity_split=10, min_samples_leaf=10,\n",
    "           min_samples_split=10, min_weight_fraction_leaf=0.5,\n",
    "           n_estimators=100, n_jobs=1, oob_score=False, random_state=None,\n",
    "           verbose=0, warm_start=False)\n",
    "\n"
   ]
  },
  {
   "cell_type": "code",
   "execution_count": null,
   "metadata": {
    "collapsed": true
   },
   "outputs": [],
   "source": []
  },
  {
   "cell_type": "code",
   "execution_count": 8,
   "metadata": {},
   "outputs": [
    {
     "name": "stderr",
     "output_type": "stream",
     "text": [
      "2018-10-15 21:49:18,218 - estimate.Estimator - Fetching estimator: RF_estimator.pkl\n",
      "2018-10-15 21:49:18,228 - estimate.Estimator - Training your model for these params: {'num_rows': [1000000], 'num_features': [10], 'n_estimators': [100], 'max_depth': [200], 'min_samples_split': [10], 'min_samples_leaf': [10], 'min_weight_fraction_leaf': [0.5], 'max_features': ['auto'], 'max_leaf_nodes': [10], 'min_impurity_decrease': [10], 'min_impurity_split': [10], 'bootstrap': [True], 'oob_score': [False], 'n_jobs': [1]}\n",
      "2018-10-15 21:49:18,239 - estimate.Estimator - Training your model should take ~ 3.3069294929504394 seconds\n"
     ]
    },
    {
     "data": {
      "text/plain": [
       "array([ 3.30692949])"
      ]
     },
     "execution_count": 8,
     "metadata": {},
     "output_type": "execute_result"
    }
   ],
   "source": [
    "estimator.estimate_duration(np.random.rand(1000000,10),rf)\n"
   ]
  },
  {
   "cell_type": "code",
   "execution_count": 28,
   "metadata": {},
   "outputs": [
    {
     "data": {
      "text/plain": [
       "'RF'"
      ]
     },
     "execution_count": 28,
     "metadata": {},
     "output_type": "execute_result"
    }
   ],
   "source": [
    "estimatorS.algo_estimator"
   ]
  },
  {
   "cell_type": "code",
   "execution_count": 27,
   "metadata": {},
   "outputs": [],
   "source": [
    "X,y=np.random.rand(1000000,10),np.random.rand(1000000,1)\n",
    "start_time = time.time()\n",
    "rf.fit(X,y)\n",
    "elapsed_time = time.time() - start_time"
   ]
  },
  {
   "cell_type": "code",
   "execution_count": 28,
   "metadata": {},
   "outputs": [
    {
     "data": {
      "text/plain": [
       "3.0627760887145996"
      ]
     },
     "execution_count": 28,
     "metadata": {},
     "output_type": "execute_result"
    }
   ],
   "source": [
    "elapsed_time"
   ]
  },
  {
   "cell_type": "code",
   "execution_count": null,
   "metadata": {
    "collapsed": true
   },
   "outputs": [],
   "source": []
  }
 ],
 "metadata": {
  "kernelspec": {
   "display_name": "Python 3",
   "language": "python",
   "name": "python3"
  },
  "language_info": {
   "codemirror_mode": {
    "name": "ipython",
    "version": 3
   },
   "file_extension": ".py",
   "mimetype": "text/x-python",
   "name": "python",
   "nbconvert_exporter": "python",
   "pygments_lexer": "ipython3",
   "version": "3.6.3"
  }
 },
 "nbformat": 4,
 "nbformat_minor": 2
}
