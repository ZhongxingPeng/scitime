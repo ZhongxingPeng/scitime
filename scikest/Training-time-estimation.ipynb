{
 "cells": [
  {
   "cell_type": "code",
   "execution_count": 1,
   "metadata": {},
   "outputs": [],
   "source": [
    "from train import Trainer\n",
    "from sklearn.ensemble import RandomForestRegressor\n",
    "import numpy as np\n",
    "import time\n",
    "import pandas as pd"
   ]
  },
  {
   "cell_type": "code",
   "execution_count": 2,
   "metadata": {
    "collapsed": true
   },
   "outputs": [],
   "source": [
    "from estimate import Estimator"
   ]
  },
  {
   "cell_type": "code",
   "execution_count": 5,
   "metadata": {},
   "outputs": [
    {
     "data": {
      "text/plain": [
       "{'dummy_inputs': ['max_features'],\n",
       " 'external_params': {'num_features': [5, 50, 100],\n",
       "  'num_rows': [100, 1000, 10000]},\n",
       " 'internal_params': {'bootstrap': [True, False],\n",
       "  'max_depth': [10, 50, 100],\n",
       "  'max_features': ['auto', 10, 20, 50, 100],\n",
       "  'max_leaf_nodes': [2, 4, 10],\n",
       "  'min_impurity_decrease': [1, 5, 10],\n",
       "  'min_impurity_split': [1, 5, 10],\n",
       "  'min_samples_leaf': [1, 5, 10],\n",
       "  'min_samples_split': [2, 4, 10],\n",
       "  'min_weight_fraction_leaf': [0.1, 0.25, 0.5],\n",
       "  'n_estimators': [10, 50, 100],\n",
       "  'n_jobs': [1, 2, 5, 8],\n",
       "  'oob_score': [False]}}"
      ]
     },
     "execution_count": 5,
     "metadata": {},
     "output_type": "execute_result"
    }
   ],
   "source": [
    "Estimator().params"
   ]
  },
  {
   "cell_type": "code",
   "execution_count": 3,
   "metadata": {
    "collapsed": true
   },
   "outputs": [],
   "source": [
    "#Checking number of cores\n",
    "trainer=Trainer(drop_rate=0.9999)"
   ]
  },
  {
   "cell_type": "code",
   "execution_count": 4,
   "metadata": {},
   "outputs": [
    {
     "data": {
      "text/plain": [
       "{'dummy_inputs': ['max_features'],\n",
       " 'external_params': {'num_features': [5, 50, 100],\n",
       "  'num_rows': [100, 1000, 10000]},\n",
       " 'internal_params': {'bootstrap': [True, False],\n",
       "  'max_depth': [10, 50, 100],\n",
       "  'max_features': ['auto', 10, 20, 50, 100],\n",
       "  'max_leaf_nodes': [2, 4, 10],\n",
       "  'min_impurity_decrease': [1, 5, 10],\n",
       "  'min_impurity_split': [1, 5, 10],\n",
       "  'min_samples_leaf': [1, 5, 10],\n",
       "  'min_samples_split': [2, 4, 10],\n",
       "  'min_weight_fraction_leaf': [0.1, 0.25, 0.5],\n",
       "  'n_estimators': [10, 50, 100],\n",
       "  'n_jobs': [1, 2, 5, 8],\n",
       "  'oob_score': [False]}}"
      ]
     },
     "execution_count": 4,
     "metadata": {},
     "output_type": "execute_result"
    }
   ],
   "source": [
    "trainer.params"
   ]
  },
  {
   "cell_type": "code",
   "execution_count": 5,
   "metadata": {
    "collapsed": true
   },
   "outputs": [],
   "source": [
    "trainer.rows_range=[100000]"
   ]
  },
  {
   "cell_type": "code",
   "execution_count": 12,
   "metadata": {},
   "outputs": [
    {
     "name": "stderr",
     "output_type": "stream",
     "text": [
      "2018-10-15 21:29:11,306 - train.Trainer - Generating dummy training durations to create a training set\n",
      "2018-10-15 21:29:11,501 - train.Trainer - data added for {'num_rows': 100, 'num_features': 5, 'n_estimators': 10, 'max_depth': 100, 'min_samples_split': 4, 'min_samples_leaf': 5, 'min_weight_fraction_leaf': 0.25, 'max_features': 'auto', 'max_leaf_nodes': 2, 'min_impurity_decrease': 5, 'min_impurity_split': 10, 'bootstrap': False, 'oob_score': False, 'n_jobs': 1} which outputs 0.008352994918823242 seconds\n",
      "2018-10-15 21:29:11,790 - train.Trainer - data added for {'num_rows': 100, 'num_features': 5, 'n_estimators': 50, 'max_depth': 50, 'min_samples_split': 4, 'min_samples_leaf': 5, 'min_weight_fraction_leaf': 0.25, 'max_features': 'auto', 'max_leaf_nodes': 2, 'min_impurity_decrease': 5, 'min_impurity_split': 5, 'bootstrap': False, 'oob_score': False, 'n_jobs': 2} which outputs 0.13777685165405273 seconds\n",
      "2018-10-15 21:29:11,867 - train.Trainer - data added for {'num_rows': 100, 'num_features': 5, 'n_estimators': 50, 'max_depth': 50, 'min_samples_split': 10, 'min_samples_leaf': 10, 'min_weight_fraction_leaf': 0.5, 'max_features': 'auto', 'max_leaf_nodes': 10, 'min_impurity_decrease': 5, 'min_impurity_split': 5, 'bootstrap': False, 'oob_score': False, 'n_jobs': 1} which outputs 0.035369873046875 seconds\n",
      "2018-10-15 21:29:12,032 - train.Trainer - data added for {'num_rows': 100, 'num_features': 5, 'n_estimators': 100, 'max_depth': 10, 'min_samples_split': 2, 'min_samples_leaf': 10, 'min_weight_fraction_leaf': 0.5, 'max_features': 'auto', 'max_leaf_nodes': 2, 'min_impurity_decrease': 10, 'min_impurity_split': 10, 'bootstrap': True, 'oob_score': False, 'n_jobs': 1} which outputs 0.0701150894165039 seconds\n",
      "2018-10-15 21:29:12,383 - train.Trainer - data added for {'num_rows': 100, 'num_features': 5, 'n_estimators': 100, 'max_depth': 100, 'min_samples_split': 10, 'min_samples_leaf': 10, 'min_weight_fraction_leaf': 0.25, 'max_features': 'auto', 'max_leaf_nodes': 10, 'min_impurity_decrease': 1, 'min_impurity_split': 5, 'bootstrap': True, 'oob_score': False, 'n_jobs': 5} which outputs 0.15755796432495117 seconds\n",
      "2018-10-15 21:29:12,551 - train.Trainer - data added for {'num_rows': 100, 'num_features': 50, 'n_estimators': 10, 'max_depth': 10, 'min_samples_split': 4, 'min_samples_leaf': 5, 'min_weight_fraction_leaf': 0.5, 'max_features': 10, 'max_leaf_nodes': 4, 'min_impurity_decrease': 1, 'min_impurity_split': 5, 'bootstrap': False, 'oob_score': False, 'n_jobs': 8} which outputs 0.11359906196594238 seconds\n",
      "2018-10-15 21:29:12,645 - train.Trainer - data added for {'num_rows': 100, 'num_features': 50, 'n_estimators': 10, 'max_depth': 50, 'min_samples_split': 4, 'min_samples_leaf': 10, 'min_weight_fraction_leaf': 0.25, 'max_features': 10, 'max_leaf_nodes': 4, 'min_impurity_decrease': 5, 'min_impurity_split': 10, 'bootstrap': False, 'oob_score': False, 'n_jobs': 1} which outputs 0.007051944732666016 seconds\n",
      "2018-10-15 21:29:12,660 - train.Trainer - data added for {'num_rows': 100, 'num_features': 50, 'n_estimators': 10, 'max_depth': 50, 'min_samples_split': 10, 'min_samples_leaf': 1, 'min_weight_fraction_leaf': 0.1, 'max_features': 10, 'max_leaf_nodes': 10, 'min_impurity_decrease': 1, 'min_impurity_split': 1, 'bootstrap': False, 'oob_score': False, 'n_jobs': 1} which outputs 0.007439851760864258 seconds\n",
      "2018-10-15 21:29:12,795 - train.Trainer - data added for {'num_rows': 100, 'num_features': 50, 'n_estimators': 10, 'max_depth': 50, 'min_samples_split': 10, 'min_samples_leaf': 10, 'min_weight_fraction_leaf': 0.25, 'max_features': 50, 'max_leaf_nodes': 10, 'min_impurity_decrease': 5, 'min_impurity_split': 10, 'bootstrap': False, 'oob_score': False, 'n_jobs': 8} which outputs 0.1117088794708252 seconds\n",
      "2018-10-15 21:29:12,911 - train.Trainer - data added for {'num_rows': 100, 'num_features': 50, 'n_estimators': 10, 'max_depth': 50, 'min_samples_split': 10, 'min_samples_leaf': 10, 'min_weight_fraction_leaf': 0.5, 'max_features': 'auto', 'max_leaf_nodes': 2, 'min_impurity_decrease': 5, 'min_impurity_split': 10, 'bootstrap': True, 'oob_score': False, 'n_jobs': 5} which outputs 0.11222505569458008 seconds\n",
      "2018-10-15 21:29:13,213 - train.Trainer - data added for {'num_rows': 100, 'num_features': 50, 'n_estimators': 50, 'max_depth': 10, 'min_samples_split': 10, 'min_samples_leaf': 5, 'min_weight_fraction_leaf': 0.5, 'max_features': 10, 'max_leaf_nodes': 2, 'min_impurity_decrease': 1, 'min_impurity_split': 1, 'bootstrap': False, 'oob_score': False, 'n_jobs': 8} which outputs 0.13386106491088867 seconds\n",
      "2018-10-15 21:29:13,378 - train.Trainer - data added for {'num_rows': 100, 'num_features': 50, 'n_estimators': 50, 'max_depth': 50, 'min_samples_split': 2, 'min_samples_leaf': 1, 'min_weight_fraction_leaf': 0.1, 'max_features': 'auto', 'max_leaf_nodes': 10, 'min_impurity_decrease': 5, 'min_impurity_split': 5, 'bootstrap': True, 'oob_score': False, 'n_jobs': 2} which outputs 0.13391995429992676 seconds\n",
      "2018-10-15 21:29:13,545 - train.Trainer - data added for {'num_rows': 100, 'num_features': 50, 'n_estimators': 50, 'max_depth': 50, 'min_samples_split': 4, 'min_samples_leaf': 1, 'min_weight_fraction_leaf': 0.25, 'max_features': 'auto', 'max_leaf_nodes': 2, 'min_impurity_decrease': 10, 'min_impurity_split': 10, 'bootstrap': False, 'oob_score': False, 'n_jobs': 2} which outputs 0.13306903839111328 seconds\n",
      "2018-10-15 21:29:13,723 - train.Trainer - data added for {'num_rows': 100, 'num_features': 50, 'n_estimators': 50, 'max_depth': 50, 'min_samples_split': 10, 'min_samples_leaf': 10, 'min_weight_fraction_leaf': 0.1, 'max_features': 20, 'max_leaf_nodes': 4, 'min_impurity_decrease': 10, 'min_impurity_split': 10, 'bootstrap': True, 'oob_score': False, 'n_jobs': 2} which outputs 0.12893319129943848 seconds\n",
      "2018-10-15 21:29:13,906 - train.Trainer - data added for {'num_rows': 100, 'num_features': 50, 'n_estimators': 50, 'max_depth': 100, 'min_samples_split': 4, 'min_samples_leaf': 5, 'min_weight_fraction_leaf': 0.5, 'max_features': 20, 'max_leaf_nodes': 4, 'min_impurity_decrease': 10, 'min_impurity_split': 1, 'bootstrap': False, 'oob_score': False, 'n_jobs': 8} which outputs 0.12993097305297852 seconds\n",
      "2018-10-15 21:29:13,961 - train.Trainer - data added for {'num_rows': 100, 'num_features': 50, 'n_estimators': 50, 'max_depth': 100, 'min_samples_split': 10, 'min_samples_leaf': 1, 'min_weight_fraction_leaf': 0.25, 'max_features': 'auto', 'max_leaf_nodes': 2, 'min_impurity_decrease': 1, 'min_impurity_split': 10, 'bootstrap': False, 'oob_score': False, 'n_jobs': 1} which outputs 0.03713512420654297 seconds\n",
      "2018-10-15 21:29:14,146 - train.Trainer - data added for {'num_rows': 100, 'num_features': 50, 'n_estimators': 100, 'max_depth': 10, 'min_samples_split': 2, 'min_samples_leaf': 1, 'min_weight_fraction_leaf': 0.1, 'max_features': 10, 'max_leaf_nodes': 10, 'min_impurity_decrease': 1, 'min_impurity_split': 5, 'bootstrap': True, 'oob_score': False, 'n_jobs': 5} which outputs 0.16103768348693848 seconds\n",
      "2018-10-15 21:29:14,356 - train.Trainer - data added for {'num_rows': 100, 'num_features': 50, 'n_estimators': 100, 'max_depth': 10, 'min_samples_split': 4, 'min_samples_leaf': 5, 'min_weight_fraction_leaf': 0.1, 'max_features': 10, 'max_leaf_nodes': 4, 'min_impurity_decrease': 1, 'min_impurity_split': 5, 'bootstrap': True, 'oob_score': False, 'n_jobs': 5} which outputs 0.16781020164489746 seconds\n",
      "2018-10-15 21:29:14,528 - train.Trainer - data added for {'num_rows': 100, 'num_features': 50, 'n_estimators': 100, 'max_depth': 10, 'min_samples_split': 4, 'min_samples_leaf': 5, 'min_weight_fraction_leaf': 0.1, 'max_features': 20, 'max_leaf_nodes': 4, 'min_impurity_decrease': 5, 'min_impurity_split': 5, 'bootstrap': False, 'oob_score': False, 'n_jobs': 5} which outputs 0.16796278953552246 seconds\n",
      "2018-10-15 21:29:14,760 - train.Trainer - data added for {'num_rows': 100, 'num_features': 50, 'n_estimators': 100, 'max_depth': 50, 'min_samples_split': 4, 'min_samples_leaf': 1, 'min_weight_fraction_leaf': 0.25, 'max_features': 'auto', 'max_leaf_nodes': 10, 'min_impurity_decrease': 5, 'min_impurity_split': 5, 'bootstrap': False, 'oob_score': False, 'n_jobs': 2} which outputs 0.1595931053161621 seconds\n"
     ]
    },
    {
     "name": "stderr",
     "output_type": "stream",
     "text": [
      "2018-10-15 21:29:14,956 - train.Trainer - data added for {'num_rows': 100, 'num_features': 50, 'n_estimators': 100, 'max_depth': 50, 'min_samples_split': 10, 'min_samples_leaf': 1, 'min_weight_fraction_leaf': 0.1, 'max_features': 10, 'max_leaf_nodes': 4, 'min_impurity_decrease': 1, 'min_impurity_split': 5, 'bootstrap': False, 'oob_score': False, 'n_jobs': 8} which outputs 0.1663069725036621 seconds\n",
      "2018-10-15 21:29:15,139 - train.Trainer - data added for {'num_rows': 100, 'num_features': 50, 'n_estimators': 100, 'max_depth': 50, 'min_samples_split': 10, 'min_samples_leaf': 1, 'min_weight_fraction_leaf': 0.1, 'max_features': 10, 'max_leaf_nodes': 10, 'min_impurity_decrease': 10, 'min_impurity_split': 10, 'bootstrap': True, 'oob_score': False, 'n_jobs': 8} which outputs 0.1784801483154297 seconds\n",
      "2018-10-15 21:29:15,353 - train.Trainer - data added for {'num_rows': 100, 'num_features': 50, 'n_estimators': 100, 'max_depth': 100, 'min_samples_split': 2, 'min_samples_leaf': 1, 'min_weight_fraction_leaf': 0.5, 'max_features': 50, 'max_leaf_nodes': 4, 'min_impurity_decrease': 10, 'min_impurity_split': 1, 'bootstrap': True, 'oob_score': False, 'n_jobs': 2} which outputs 0.1720561981201172 seconds\n",
      "2018-10-15 21:29:15,546 - train.Trainer - data added for {'num_rows': 100, 'num_features': 50, 'n_estimators': 100, 'max_depth': 100, 'min_samples_split': 4, 'min_samples_leaf': 5, 'min_weight_fraction_leaf': 0.1, 'max_features': 'auto', 'max_leaf_nodes': 2, 'min_impurity_decrease': 5, 'min_impurity_split': 1, 'bootstrap': True, 'oob_score': False, 'n_jobs': 8} which outputs 0.16071605682373047 seconds\n",
      "2018-10-15 21:29:15,653 - train.Trainer - data added for {'num_rows': 100, 'num_features': 50, 'n_estimators': 100, 'max_depth': 100, 'min_samples_split': 10, 'min_samples_leaf': 10, 'min_weight_fraction_leaf': 0.25, 'max_features': 20, 'max_leaf_nodes': 4, 'min_impurity_decrease': 1, 'min_impurity_split': 1, 'bootstrap': True, 'oob_score': False, 'n_jobs': 1} which outputs 0.06522321701049805 seconds\n",
      "2018-10-15 21:29:15,698 - train.Trainer - data added for {'num_rows': 100, 'num_features': 100, 'n_estimators': 10, 'max_depth': 10, 'min_samples_split': 4, 'min_samples_leaf': 1, 'min_weight_fraction_leaf': 0.5, 'max_features': 10, 'max_leaf_nodes': 2, 'min_impurity_decrease': 1, 'min_impurity_split': 10, 'bootstrap': False, 'oob_score': False, 'n_jobs': 1} which outputs 0.006788969039916992 seconds\n",
      "2018-10-15 21:29:15,855 - train.Trainer - data added for {'num_rows': 100, 'num_features': 100, 'n_estimators': 10, 'max_depth': 50, 'min_samples_split': 2, 'min_samples_leaf': 1, 'min_weight_fraction_leaf': 0.1, 'max_features': 10, 'max_leaf_nodes': 10, 'min_impurity_decrease': 10, 'min_impurity_split': 1, 'bootstrap': True, 'oob_score': False, 'n_jobs': 2} which outputs 0.10930705070495605 seconds\n",
      "2018-10-15 21:29:16,011 - train.Trainer - data added for {'num_rows': 100, 'num_features': 100, 'n_estimators': 10, 'max_depth': 50, 'min_samples_split': 4, 'min_samples_leaf': 10, 'min_weight_fraction_leaf': 0.1, 'max_features': 20, 'max_leaf_nodes': 10, 'min_impurity_decrease': 1, 'min_impurity_split': 5, 'bootstrap': True, 'oob_score': False, 'n_jobs': 8} which outputs 0.11245489120483398 seconds\n",
      "2018-10-15 21:29:16,028 - train.Trainer - data added for {'num_rows': 100, 'num_features': 100, 'n_estimators': 10, 'max_depth': 50, 'min_samples_split': 4, 'min_samples_leaf': 10, 'min_weight_fraction_leaf': 0.25, 'max_features': 50, 'max_leaf_nodes': 2, 'min_impurity_decrease': 10, 'min_impurity_split': 1, 'bootstrap': False, 'oob_score': False, 'n_jobs': 1} which outputs 0.008810043334960938 seconds\n",
      "2018-10-15 21:29:16,149 - train.Trainer - data added for {'num_rows': 100, 'num_features': 100, 'n_estimators': 10, 'max_depth': 50, 'min_samples_split': 10, 'min_samples_leaf': 1, 'min_weight_fraction_leaf': 0.1, 'max_features': 50, 'max_leaf_nodes': 10, 'min_impurity_decrease': 5, 'min_impurity_split': 1, 'bootstrap': True, 'oob_score': False, 'n_jobs': 2} which outputs 0.11185812950134277 seconds\n",
      "2018-10-15 21:29:16,272 - train.Trainer - data added for {'num_rows': 100, 'num_features': 100, 'n_estimators': 10, 'max_depth': 50, 'min_samples_split': 10, 'min_samples_leaf': 5, 'min_weight_fraction_leaf': 0.1, 'max_features': 100, 'max_leaf_nodes': 2, 'min_impurity_decrease': 10, 'min_impurity_split': 1, 'bootstrap': False, 'oob_score': False, 'n_jobs': 2} which outputs 0.1086587905883789 seconds\n",
      "2018-10-15 21:29:16,400 - train.Trainer - data added for {'num_rows': 100, 'num_features': 100, 'n_estimators': 10, 'max_depth': 50, 'min_samples_split': 10, 'min_samples_leaf': 10, 'min_weight_fraction_leaf': 0.5, 'max_features': 10, 'max_leaf_nodes': 10, 'min_impurity_decrease': 5, 'min_impurity_split': 1, 'bootstrap': True, 'oob_score': False, 'n_jobs': 2} which outputs 0.1097412109375 seconds\n",
      "2018-10-15 21:29:16,522 - train.Trainer - data added for {'num_rows': 100, 'num_features': 100, 'n_estimators': 10, 'max_depth': 100, 'min_samples_split': 2, 'min_samples_leaf': 1, 'min_weight_fraction_leaf': 0.25, 'max_features': 50, 'max_leaf_nodes': 2, 'min_impurity_decrease': 10, 'min_impurity_split': 1, 'bootstrap': True, 'oob_score': False, 'n_jobs': 2} which outputs 0.10982179641723633 seconds\n",
      "2018-10-15 21:29:16,652 - train.Trainer - data added for {'num_rows': 100, 'num_features': 100, 'n_estimators': 10, 'max_depth': 100, 'min_samples_split': 2, 'min_samples_leaf': 5, 'min_weight_fraction_leaf': 0.5, 'max_features': 20, 'max_leaf_nodes': 10, 'min_impurity_decrease': 5, 'min_impurity_split': 1, 'bootstrap': False, 'oob_score': False, 'n_jobs': 5} which outputs 0.11343908309936523 seconds\n",
      "2018-10-15 21:29:16,774 - train.Trainer - data added for {'num_rows': 100, 'num_features': 100, 'n_estimators': 10, 'max_depth': 100, 'min_samples_split': 2, 'min_samples_leaf': 10, 'min_weight_fraction_leaf': 0.25, 'max_features': 100, 'max_leaf_nodes': 10, 'min_impurity_decrease': 1, 'min_impurity_split': 1, 'bootstrap': False, 'oob_score': False, 'n_jobs': 2} which outputs 0.10891890525817871 seconds\n",
      "2018-10-15 21:29:16,797 - train.Trainer - data added for {'num_rows': 100, 'num_features': 100, 'n_estimators': 10, 'max_depth': 100, 'min_samples_split': 4, 'min_samples_leaf': 1, 'min_weight_fraction_leaf': 0.25, 'max_features': 50, 'max_leaf_nodes': 10, 'min_impurity_decrease': 1, 'min_impurity_split': 1, 'bootstrap': False, 'oob_score': False, 'n_jobs': 1} which outputs 0.010275125503540039 seconds\n",
      "2018-10-15 21:29:16,923 - train.Trainer - data added for {'num_rows': 100, 'num_features': 100, 'n_estimators': 10, 'max_depth': 100, 'min_samples_split': 4, 'min_samples_leaf': 5, 'min_weight_fraction_leaf': 0.5, 'max_features': 20, 'max_leaf_nodes': 2, 'min_impurity_decrease': 5, 'min_impurity_split': 10, 'bootstrap': True, 'oob_score': False, 'n_jobs': 2} which outputs 0.11028003692626953 seconds\n",
      "2018-10-15 21:29:17,009 - train.Trainer - data added for {'num_rows': 100, 'num_features': 100, 'n_estimators': 50, 'max_depth': 10, 'min_samples_split': 2, 'min_samples_leaf': 1, 'min_weight_fraction_leaf': 0.1, 'max_features': 50, 'max_leaf_nodes': 2, 'min_impurity_decrease': 1, 'min_impurity_split': 1, 'bootstrap': True, 'oob_score': False, 'n_jobs': 1} which outputs 0.0373687744140625 seconds\n",
      "2018-10-15 21:29:17,148 - train.Trainer - data added for {'num_rows': 100, 'num_features': 100, 'n_estimators': 50, 'max_depth': 50, 'min_samples_split': 4, 'min_samples_leaf': 1, 'min_weight_fraction_leaf': 0.5, 'max_features': 10, 'max_leaf_nodes': 10, 'min_impurity_decrease': 10, 'min_impurity_split': 5, 'bootstrap': True, 'oob_score': False, 'n_jobs': 1} which outputs 0.03815197944641113 seconds\n",
      "2018-10-15 21:29:17,316 - train.Trainer - data added for {'num_rows': 100, 'num_features': 100, 'n_estimators': 50, 'max_depth': 50, 'min_samples_split': 10, 'min_samples_leaf': 5, 'min_weight_fraction_leaf': 0.1, 'max_features': 20, 'max_leaf_nodes': 2, 'min_impurity_decrease': 1, 'min_impurity_split': 5, 'bootstrap': False, 'oob_score': False, 'n_jobs': 2} which outputs 0.1372370719909668 seconds\n",
      "2018-10-15 21:29:17,478 - train.Trainer - data added for {'num_rows': 100, 'num_features': 100, 'n_estimators': 50, 'max_depth': 100, 'min_samples_split': 2, 'min_samples_leaf': 1, 'min_weight_fraction_leaf': 0.25, 'max_features': 'auto', 'max_leaf_nodes': 4, 'min_impurity_decrease': 1, 'min_impurity_split': 1, 'bootstrap': False, 'oob_score': False, 'n_jobs': 5} which outputs 0.13690805435180664 seconds\n"
     ]
    },
    {
     "name": "stderr",
     "output_type": "stream",
     "text": [
      "2018-10-15 21:29:17,548 - train.Trainer - data added for {'num_rows': 100, 'num_features': 100, 'n_estimators': 50, 'max_depth': 100, 'min_samples_split': 4, 'min_samples_leaf': 1, 'min_weight_fraction_leaf': 0.5, 'max_features': 20, 'max_leaf_nodes': 4, 'min_impurity_decrease': 10, 'min_impurity_split': 5, 'bootstrap': False, 'oob_score': False, 'n_jobs': 1} which outputs 0.03484797477722168 seconds\n",
      "2018-10-15 21:29:17,794 - train.Trainer - data added for {'num_rows': 100, 'num_features': 100, 'n_estimators': 100, 'max_depth': 10, 'min_samples_split': 4, 'min_samples_leaf': 1, 'min_weight_fraction_leaf': 0.5, 'max_features': 20, 'max_leaf_nodes': 10, 'min_impurity_decrease': 1, 'min_impurity_split': 5, 'bootstrap': False, 'oob_score': False, 'n_jobs': 2} which outputs 0.16764211654663086 seconds\n",
      "2018-10-15 21:29:17,910 - train.Trainer - data added for {'num_rows': 100, 'num_features': 100, 'n_estimators': 100, 'max_depth': 10, 'min_samples_split': 10, 'min_samples_leaf': 10, 'min_weight_fraction_leaf': 0.5, 'max_features': 20, 'max_leaf_nodes': 10, 'min_impurity_decrease': 1, 'min_impurity_split': 5, 'bootstrap': False, 'oob_score': False, 'n_jobs': 1} which outputs 0.0632929801940918 seconds\n",
      "2018-10-15 21:29:17,996 - train.Trainer - data added for {'num_rows': 100, 'num_features': 100, 'n_estimators': 100, 'max_depth': 50, 'min_samples_split': 2, 'min_samples_leaf': 1, 'min_weight_fraction_leaf': 0.25, 'max_features': 100, 'max_leaf_nodes': 10, 'min_impurity_decrease': 5, 'min_impurity_split': 5, 'bootstrap': True, 'oob_score': False, 'n_jobs': 1} which outputs 0.07704424858093262 seconds\n",
      "2018-10-15 21:29:18,179 - train.Trainer - data added for {'num_rows': 100, 'num_features': 100, 'n_estimators': 100, 'max_depth': 50, 'min_samples_split': 2, 'min_samples_leaf': 10, 'min_weight_fraction_leaf': 0.25, 'max_features': 'auto', 'max_leaf_nodes': 10, 'min_impurity_decrease': 10, 'min_impurity_split': 10, 'bootstrap': True, 'oob_score': False, 'n_jobs': 8} which outputs 0.16434669494628906 seconds\n",
      "2018-10-15 21:29:18,283 - train.Trainer - data added for {'num_rows': 100, 'num_features': 100, 'n_estimators': 100, 'max_depth': 50, 'min_samples_split': 4, 'min_samples_leaf': 5, 'min_weight_fraction_leaf': 0.1, 'max_features': 50, 'max_leaf_nodes': 4, 'min_impurity_decrease': 5, 'min_impurity_split': 10, 'bootstrap': True, 'oob_score': False, 'n_jobs': 1} which outputs 0.07954835891723633 seconds\n",
      "2018-10-15 21:29:18,378 - train.Trainer - data added for {'num_rows': 100, 'num_features': 100, 'n_estimators': 100, 'max_depth': 50, 'min_samples_split': 10, 'min_samples_leaf': 1, 'min_weight_fraction_leaf': 0.25, 'max_features': 10, 'max_leaf_nodes': 10, 'min_impurity_decrease': 5, 'min_impurity_split': 1, 'bootstrap': True, 'oob_score': False, 'n_jobs': 1} which outputs 0.07302498817443848 seconds\n",
      "2018-10-15 21:29:18,615 - train.Trainer - data added for {'num_rows': 100, 'num_features': 100, 'n_estimators': 100, 'max_depth': 100, 'min_samples_split': 4, 'min_samples_leaf': 5, 'min_weight_fraction_leaf': 0.5, 'max_features': 50, 'max_leaf_nodes': 10, 'min_impurity_decrease': 5, 'min_impurity_split': 10, 'bootstrap': True, 'oob_score': False, 'n_jobs': 5} which outputs 0.16714692115783691 seconds\n",
      "2018-10-15 21:29:18,804 - train.Trainer - data added for {'num_rows': 100, 'num_features': 100, 'n_estimators': 100, 'max_depth': 100, 'min_samples_split': 10, 'min_samples_leaf': 1, 'min_weight_fraction_leaf': 0.25, 'max_features': 50, 'max_leaf_nodes': 4, 'min_impurity_decrease': 1, 'min_impurity_split': 10, 'bootstrap': True, 'oob_score': False, 'n_jobs': 8} which outputs 0.16850996017456055 seconds\n",
      "2018-10-15 21:29:19,114 - train.Trainer - data added for {'num_rows': 1000, 'num_features': 5, 'n_estimators': 10, 'max_depth': 100, 'min_samples_split': 4, 'min_samples_leaf': 1, 'min_weight_fraction_leaf': 0.1, 'max_features': 'auto', 'max_leaf_nodes': 10, 'min_impurity_decrease': 5, 'min_impurity_split': 1, 'bootstrap': True, 'oob_score': False, 'n_jobs': 8} which outputs 0.10987114906311035 seconds\n",
      "2018-10-15 21:29:19,356 - train.Trainer - data added for {'num_rows': 1000, 'num_features': 5, 'n_estimators': 50, 'max_depth': 10, 'min_samples_split': 4, 'min_samples_leaf': 10, 'min_weight_fraction_leaf': 0.5, 'max_features': 'auto', 'max_leaf_nodes': 4, 'min_impurity_decrease': 1, 'min_impurity_split': 1, 'bootstrap': False, 'oob_score': False, 'n_jobs': 5} which outputs 0.13513493537902832 seconds\n",
      "2018-10-15 21:29:19,894 - train.Trainer - data added for {'num_rows': 1000, 'num_features': 50, 'n_estimators': 10, 'max_depth': 10, 'min_samples_split': 2, 'min_samples_leaf': 5, 'min_weight_fraction_leaf': 0.1, 'max_features': 'auto', 'max_leaf_nodes': 10, 'min_impurity_decrease': 5, 'min_impurity_split': 1, 'bootstrap': True, 'oob_score': False, 'n_jobs': 5} which outputs 0.11171984672546387 seconds\n",
      "2018-10-15 21:29:20,079 - train.Trainer - data added for {'num_rows': 1000, 'num_features': 50, 'n_estimators': 10, 'max_depth': 10, 'min_samples_split': 10, 'min_samples_leaf': 10, 'min_weight_fraction_leaf': 0.5, 'max_features': 'auto', 'max_leaf_nodes': 4, 'min_impurity_decrease': 5, 'min_impurity_split': 1, 'bootstrap': False, 'oob_score': False, 'n_jobs': 5} which outputs 0.11140131950378418 seconds\n",
      "2018-10-15 21:29:20,251 - train.Trainer - data added for {'num_rows': 1000, 'num_features': 50, 'n_estimators': 10, 'max_depth': 50, 'min_samples_split': 4, 'min_samples_leaf': 10, 'min_weight_fraction_leaf': 0.1, 'max_features': 20, 'max_leaf_nodes': 4, 'min_impurity_decrease': 10, 'min_impurity_split': 1, 'bootstrap': True, 'oob_score': False, 'n_jobs': 8} which outputs 0.11005783081054688 seconds\n",
      "2018-10-15 21:29:20,536 - train.Trainer - data added for {'num_rows': 1000, 'num_features': 50, 'n_estimators': 50, 'max_depth': 10, 'min_samples_split': 4, 'min_samples_leaf': 5, 'min_weight_fraction_leaf': 0.25, 'max_features': 10, 'max_leaf_nodes': 2, 'min_impurity_decrease': 1, 'min_impurity_split': 10, 'bootstrap': False, 'oob_score': False, 'n_jobs': 8} which outputs 0.1337578296661377 seconds\n",
      "2018-10-15 21:29:20,734 - train.Trainer - data added for {'num_rows': 1000, 'num_features': 50, 'n_estimators': 50, 'max_depth': 50, 'min_samples_split': 2, 'min_samples_leaf': 5, 'min_weight_fraction_leaf': 0.5, 'max_features': 20, 'max_leaf_nodes': 4, 'min_impurity_decrease': 1, 'min_impurity_split': 10, 'bootstrap': False, 'oob_score': False, 'n_jobs': 5} which outputs 0.1352698802947998 seconds\n",
      "2018-10-15 21:29:20,899 - train.Trainer - data added for {'num_rows': 1000, 'num_features': 50, 'n_estimators': 50, 'max_depth': 50, 'min_samples_split': 4, 'min_samples_leaf': 5, 'min_weight_fraction_leaf': 0.25, 'max_features': 'auto', 'max_leaf_nodes': 2, 'min_impurity_decrease': 10, 'min_impurity_split': 10, 'bootstrap': False, 'oob_score': False, 'n_jobs': 2} which outputs 0.13528919219970703 seconds\n",
      "2018-10-15 21:29:21,161 - train.Trainer - data added for {'num_rows': 1000, 'num_features': 50, 'n_estimators': 50, 'max_depth': 100, 'min_samples_split': 10, 'min_samples_leaf': 10, 'min_weight_fraction_leaf': 0.25, 'max_features': 'auto', 'max_leaf_nodes': 10, 'min_impurity_decrease': 5, 'min_impurity_split': 1, 'bootstrap': True, 'oob_score': False, 'n_jobs': 2} which outputs 0.1359879970550537 seconds\n",
      "2018-10-15 21:29:21,259 - train.Trainer - data added for {'num_rows': 1000, 'num_features': 50, 'n_estimators': 100, 'max_depth': 10, 'min_samples_split': 2, 'min_samples_leaf': 1, 'min_weight_fraction_leaf': 0.25, 'max_features': 'auto', 'max_leaf_nodes': 10, 'min_impurity_decrease': 5, 'min_impurity_split': 10, 'bootstrap': True, 'oob_score': False, 'n_jobs': 1} which outputs 0.083251953125 seconds\n",
      "2018-10-15 21:29:21,471 - train.Trainer - data added for {'num_rows': 1000, 'num_features': 50, 'n_estimators': 100, 'max_depth': 10, 'min_samples_split': 4, 'min_samples_leaf': 5, 'min_weight_fraction_leaf': 0.5, 'max_features': 20, 'max_leaf_nodes': 2, 'min_impurity_decrease': 1, 'min_impurity_split': 1, 'bootstrap': True, 'oob_score': False, 'n_jobs': 5} which outputs 0.17074108123779297 seconds\n",
      "2018-10-15 21:29:21,656 - train.Trainer - data added for {'num_rows': 1000, 'num_features': 50, 'n_estimators': 100, 'max_depth': 10, 'min_samples_split': 4, 'min_samples_leaf': 10, 'min_weight_fraction_leaf': 0.25, 'max_features': 50, 'max_leaf_nodes': 10, 'min_impurity_decrease': 5, 'min_impurity_split': 1, 'bootstrap': True, 'oob_score': False, 'n_jobs': 8} which outputs 0.17293906211853027 seconds\n"
     ]
    },
    {
     "name": "stderr",
     "output_type": "stream",
     "text": [
      "2018-10-15 21:29:21,845 - train.Trainer - data added for {'num_rows': 1000, 'num_features': 50, 'n_estimators': 100, 'max_depth': 10, 'min_samples_split': 10, 'min_samples_leaf': 10, 'min_weight_fraction_leaf': 0.1, 'max_features': 20, 'max_leaf_nodes': 10, 'min_impurity_decrease': 5, 'min_impurity_split': 1, 'bootstrap': False, 'oob_score': False, 'n_jobs': 5} which outputs 0.16033482551574707 seconds\n",
      "2018-10-15 21:29:22,014 - train.Trainer - data added for {'num_rows': 1000, 'num_features': 50, 'n_estimators': 100, 'max_depth': 10, 'min_samples_split': 10, 'min_samples_leaf': 10, 'min_weight_fraction_leaf': 0.1, 'max_features': 50, 'max_leaf_nodes': 10, 'min_impurity_decrease': 10, 'min_impurity_split': 10, 'bootstrap': True, 'oob_score': False, 'n_jobs': 2} which outputs 0.16484308242797852 seconds\n",
      "2018-10-15 21:29:22,223 - train.Trainer - data added for {'num_rows': 1000, 'num_features': 50, 'n_estimators': 100, 'max_depth': 50, 'min_samples_split': 2, 'min_samples_leaf': 10, 'min_weight_fraction_leaf': 0.5, 'max_features': 'auto', 'max_leaf_nodes': 10, 'min_impurity_decrease': 5, 'min_impurity_split': 5, 'bootstrap': False, 'oob_score': False, 'n_jobs': 5} which outputs 0.1712038516998291 seconds\n",
      "2018-10-15 21:29:22,404 - train.Trainer - data added for {'num_rows': 1000, 'num_features': 50, 'n_estimators': 100, 'max_depth': 50, 'min_samples_split': 4, 'min_samples_leaf': 5, 'min_weight_fraction_leaf': 0.5, 'max_features': 10, 'max_leaf_nodes': 10, 'min_impurity_decrease': 1, 'min_impurity_split': 5, 'bootstrap': True, 'oob_score': False, 'n_jobs': 5} which outputs 0.16032910346984863 seconds\n",
      "2018-10-15 21:29:22,597 - train.Trainer - data added for {'num_rows': 1000, 'num_features': 50, 'n_estimators': 100, 'max_depth': 50, 'min_samples_split': 10, 'min_samples_leaf': 5, 'min_weight_fraction_leaf': 0.5, 'max_features': 50, 'max_leaf_nodes': 4, 'min_impurity_decrease': 1, 'min_impurity_split': 1, 'bootstrap': False, 'oob_score': False, 'n_jobs': 5} which outputs 0.16364169120788574 seconds\n",
      "2018-10-15 21:29:22,787 - train.Trainer - data added for {'num_rows': 1000, 'num_features': 50, 'n_estimators': 100, 'max_depth': 100, 'min_samples_split': 2, 'min_samples_leaf': 5, 'min_weight_fraction_leaf': 0.1, 'max_features': 'auto', 'max_leaf_nodes': 10, 'min_impurity_decrease': 10, 'min_impurity_split': 10, 'bootstrap': True, 'oob_score': False, 'n_jobs': 2} which outputs 0.165787935256958 seconds\n",
      "2018-10-15 21:29:22,976 - train.Trainer - data added for {'num_rows': 1000, 'num_features': 100, 'n_estimators': 10, 'max_depth': 10, 'min_samples_split': 2, 'min_samples_leaf': 5, 'min_weight_fraction_leaf': 0.1, 'max_features': 20, 'max_leaf_nodes': 4, 'min_impurity_decrease': 10, 'min_impurity_split': 1, 'bootstrap': True, 'oob_score': False, 'n_jobs': 5} which outputs 0.1083381175994873 seconds\n",
      "2018-10-15 21:29:23,111 - train.Trainer - data added for {'num_rows': 1000, 'num_features': 100, 'n_estimators': 10, 'max_depth': 10, 'min_samples_split': 2, 'min_samples_leaf': 10, 'min_weight_fraction_leaf': 0.5, 'max_features': 100, 'max_leaf_nodes': 4, 'min_impurity_decrease': 10, 'min_impurity_split': 5, 'bootstrap': True, 'oob_score': False, 'n_jobs': 2} which outputs 0.11010098457336426 seconds\n",
      "2018-10-15 21:29:23,127 - train.Trainer - data added for {'num_rows': 1000, 'num_features': 100, 'n_estimators': 10, 'max_depth': 10, 'min_samples_split': 4, 'min_samples_leaf': 1, 'min_weight_fraction_leaf': 0.1, 'max_features': 10, 'max_leaf_nodes': 10, 'min_impurity_decrease': 10, 'min_impurity_split': 1, 'bootstrap': True, 'oob_score': False, 'n_jobs': 1} which outputs 0.009963035583496094 seconds\n",
      "2018-10-15 21:29:23,252 - train.Trainer - data added for {'num_rows': 1000, 'num_features': 100, 'n_estimators': 10, 'max_depth': 10, 'min_samples_split': 4, 'min_samples_leaf': 1, 'min_weight_fraction_leaf': 0.5, 'max_features': 50, 'max_leaf_nodes': 4, 'min_impurity_decrease': 1, 'min_impurity_split': 10, 'bootstrap': True, 'oob_score': False, 'n_jobs': 5} which outputs 0.1137537956237793 seconds\n",
      "2018-10-15 21:29:23,269 - train.Trainer - data added for {'num_rows': 1000, 'num_features': 100, 'n_estimators': 10, 'max_depth': 10, 'min_samples_split': 4, 'min_samples_leaf': 5, 'min_weight_fraction_leaf': 0.1, 'max_features': 50, 'max_leaf_nodes': 4, 'min_impurity_decrease': 5, 'min_impurity_split': 10, 'bootstrap': False, 'oob_score': False, 'n_jobs': 1} which outputs 0.009004831314086914 seconds\n",
      "2018-10-15 21:29:23,399 - train.Trainer - data added for {'num_rows': 1000, 'num_features': 100, 'n_estimators': 10, 'max_depth': 10, 'min_samples_split': 10, 'min_samples_leaf': 1, 'min_weight_fraction_leaf': 0.1, 'max_features': 20, 'max_leaf_nodes': 2, 'min_impurity_decrease': 5, 'min_impurity_split': 5, 'bootstrap': True, 'oob_score': False, 'n_jobs': 2} which outputs 0.10779714584350586 seconds\n",
      "2018-10-15 21:29:23,524 - train.Trainer - data added for {'num_rows': 1000, 'num_features': 100, 'n_estimators': 10, 'max_depth': 10, 'min_samples_split': 10, 'min_samples_leaf': 1, 'min_weight_fraction_leaf': 0.5, 'max_features': 'auto', 'max_leaf_nodes': 10, 'min_impurity_decrease': 1, 'min_impurity_split': 1, 'bootstrap': True, 'oob_score': False, 'n_jobs': 8} which outputs 0.11286091804504395 seconds\n",
      "2018-10-15 21:29:23,652 - train.Trainer - data added for {'num_rows': 1000, 'num_features': 100, 'n_estimators': 10, 'max_depth': 10, 'min_samples_split': 10, 'min_samples_leaf': 5, 'min_weight_fraction_leaf': 0.5, 'max_features': 50, 'max_leaf_nodes': 2, 'min_impurity_decrease': 1, 'min_impurity_split': 5, 'bootstrap': False, 'oob_score': False, 'n_jobs': 8} which outputs 0.11070418357849121 seconds\n",
      "2018-10-15 21:29:23,788 - train.Trainer - data added for {'num_rows': 1000, 'num_features': 100, 'n_estimators': 10, 'max_depth': 50, 'min_samples_split': 2, 'min_samples_leaf': 5, 'min_weight_fraction_leaf': 0.1, 'max_features': 10, 'max_leaf_nodes': 10, 'min_impurity_decrease': 5, 'min_impurity_split': 5, 'bootstrap': False, 'oob_score': False, 'n_jobs': 5} which outputs 0.10856389999389648 seconds\n",
      "2018-10-15 21:29:23,911 - train.Trainer - data added for {'num_rows': 1000, 'num_features': 100, 'n_estimators': 10, 'max_depth': 50, 'min_samples_split': 2, 'min_samples_leaf': 5, 'min_weight_fraction_leaf': 0.5, 'max_features': 100, 'max_leaf_nodes': 10, 'min_impurity_decrease': 1, 'min_impurity_split': 5, 'bootstrap': True, 'oob_score': False, 'n_jobs': 8} which outputs 0.10997295379638672 seconds\n",
      "2018-10-15 21:29:24,072 - train.Trainer - data added for {'num_rows': 1000, 'num_features': 100, 'n_estimators': 10, 'max_depth': 50, 'min_samples_split': 10, 'min_samples_leaf': 10, 'min_weight_fraction_leaf': 0.1, 'max_features': 'auto', 'max_leaf_nodes': 2, 'min_impurity_decrease': 10, 'min_impurity_split': 10, 'bootstrap': True, 'oob_score': False, 'n_jobs': 2} which outputs 0.10798406600952148 seconds\n",
      "2018-10-15 21:29:24,091 - train.Trainer - data added for {'num_rows': 1000, 'num_features': 100, 'n_estimators': 10, 'max_depth': 50, 'min_samples_split': 10, 'min_samples_leaf': 10, 'min_weight_fraction_leaf': 0.5, 'max_features': 'auto', 'max_leaf_nodes': 2, 'min_impurity_decrease': 1, 'min_impurity_split': 1, 'bootstrap': False, 'oob_score': False, 'n_jobs': 1} which outputs 0.008021831512451172 seconds\n",
      "2018-10-15 21:29:24,103 - train.Trainer - data added for {'num_rows': 1000, 'num_features': 100, 'n_estimators': 10, 'max_depth': 50, 'min_samples_split': 10, 'min_samples_leaf': 10, 'min_weight_fraction_leaf': 0.5, 'max_features': 'auto', 'max_leaf_nodes': 10, 'min_impurity_decrease': 5, 'min_impurity_split': 5, 'bootstrap': False, 'oob_score': False, 'n_jobs': 1} which outputs 0.007969856262207031 seconds\n",
      "2018-10-15 21:29:24,227 - train.Trainer - data added for {'num_rows': 1000, 'num_features': 100, 'n_estimators': 10, 'max_depth': 100, 'min_samples_split': 2, 'min_samples_leaf': 1, 'min_weight_fraction_leaf': 0.5, 'max_features': 20, 'max_leaf_nodes': 2, 'min_impurity_decrease': 5, 'min_impurity_split': 10, 'bootstrap': True, 'oob_score': False, 'n_jobs': 2} which outputs 0.11187577247619629 seconds\n",
      "2018-10-15 21:29:24,401 - train.Trainer - data added for {'num_rows': 1000, 'num_features': 100, 'n_estimators': 10, 'max_depth': 100, 'min_samples_split': 10, 'min_samples_leaf': 5, 'min_weight_fraction_leaf': 0.1, 'max_features': 50, 'max_leaf_nodes': 2, 'min_impurity_decrease': 1, 'min_impurity_split': 10, 'bootstrap': True, 'oob_score': False, 'n_jobs': 5} which outputs 0.11219573020935059 seconds\n"
     ]
    },
    {
     "name": "stderr",
     "output_type": "stream",
     "text": [
      "2018-10-15 21:29:24,493 - train.Trainer - data added for {'num_rows': 1000, 'num_features': 100, 'n_estimators': 50, 'max_depth': 10, 'min_samples_split': 4, 'min_samples_leaf': 1, 'min_weight_fraction_leaf': 0.25, 'max_features': 'auto', 'max_leaf_nodes': 2, 'min_impurity_decrease': 1, 'min_impurity_split': 1, 'bootstrap': False, 'oob_score': False, 'n_jobs': 1} which outputs 0.03771328926086426 seconds\n",
      "2018-10-15 21:29:24,610 - train.Trainer - data added for {'num_rows': 1000, 'num_features': 100, 'n_estimators': 50, 'max_depth': 50, 'min_samples_split': 4, 'min_samples_leaf': 1, 'min_weight_fraction_leaf': 0.25, 'max_features': 'auto', 'max_leaf_nodes': 10, 'min_impurity_decrease': 10, 'min_impurity_split': 10, 'bootstrap': True, 'oob_score': False, 'n_jobs': 1} which outputs 0.039021968841552734 seconds\n",
      "2018-10-15 21:29:24,751 - train.Trainer - data added for {'num_rows': 1000, 'num_features': 100, 'n_estimators': 50, 'max_depth': 50, 'min_samples_split': 4, 'min_samples_leaf': 1, 'min_weight_fraction_leaf': 0.25, 'max_features': 20, 'max_leaf_nodes': 2, 'min_impurity_decrease': 5, 'min_impurity_split': 5, 'bootstrap': False, 'oob_score': False, 'n_jobs': 5} which outputs 0.13657212257385254 seconds\n",
      "2018-10-15 21:29:24,799 - train.Trainer - data added for {'num_rows': 1000, 'num_features': 100, 'n_estimators': 50, 'max_depth': 50, 'min_samples_split': 4, 'min_samples_leaf': 1, 'min_weight_fraction_leaf': 0.5, 'max_features': 50, 'max_leaf_nodes': 2, 'min_impurity_decrease': 1, 'min_impurity_split': 10, 'bootstrap': True, 'oob_score': False, 'n_jobs': 1} which outputs 0.039576053619384766 seconds\n",
      "2018-10-15 21:29:24,954 - train.Trainer - data added for {'num_rows': 1000, 'num_features': 100, 'n_estimators': 50, 'max_depth': 50, 'min_samples_split': 4, 'min_samples_leaf': 10, 'min_weight_fraction_leaf': 0.5, 'max_features': 100, 'max_leaf_nodes': 4, 'min_impurity_decrease': 5, 'min_impurity_split': 1, 'bootstrap': False, 'oob_score': False, 'n_jobs': 8} which outputs 0.13334918022155762 seconds\n",
      "2018-10-15 21:29:25,103 - train.Trainer - data added for {'num_rows': 1000, 'num_features': 100, 'n_estimators': 50, 'max_depth': 50, 'min_samples_split': 10, 'min_samples_leaf': 1, 'min_weight_fraction_leaf': 0.5, 'max_features': 'auto', 'max_leaf_nodes': 10, 'min_impurity_decrease': 5, 'min_impurity_split': 10, 'bootstrap': False, 'oob_score': False, 'n_jobs': 8} which outputs 0.1366138458251953 seconds\n",
      "2018-10-15 21:29:25,253 - train.Trainer - data added for {'num_rows': 1000, 'num_features': 100, 'n_estimators': 50, 'max_depth': 50, 'min_samples_split': 10, 'min_samples_leaf': 1, 'min_weight_fraction_leaf': 0.5, 'max_features': 20, 'max_leaf_nodes': 4, 'min_impurity_decrease': 5, 'min_impurity_split': 5, 'bootstrap': True, 'oob_score': False, 'n_jobs': 8} which outputs 0.1458430290222168 seconds\n",
      "2018-10-15 21:29:25,466 - train.Trainer - data added for {'num_rows': 1000, 'num_features': 100, 'n_estimators': 50, 'max_depth': 100, 'min_samples_split': 4, 'min_samples_leaf': 10, 'min_weight_fraction_leaf': 0.5, 'max_features': 50, 'max_leaf_nodes': 4, 'min_impurity_decrease': 1, 'min_impurity_split': 10, 'bootstrap': True, 'oob_score': False, 'n_jobs': 8} which outputs 0.13384699821472168 seconds\n",
      "2018-10-15 21:29:25,622 - train.Trainer - data added for {'num_rows': 1000, 'num_features': 100, 'n_estimators': 50, 'max_depth': 100, 'min_samples_split': 10, 'min_samples_leaf': 5, 'min_weight_fraction_leaf': 0.1, 'max_features': 10, 'max_leaf_nodes': 4, 'min_impurity_decrease': 1, 'min_impurity_split': 10, 'bootstrap': True, 'oob_score': False, 'n_jobs': 2} which outputs 0.1389477252960205 seconds\n",
      "2018-10-15 21:29:25,772 - train.Trainer - data added for {'num_rows': 1000, 'num_features': 100, 'n_estimators': 50, 'max_depth': 100, 'min_samples_split': 10, 'min_samples_leaf': 5, 'min_weight_fraction_leaf': 0.25, 'max_features': 10, 'max_leaf_nodes': 10, 'min_impurity_decrease': 1, 'min_impurity_split': 5, 'bootstrap': False, 'oob_score': False, 'n_jobs': 8} which outputs 0.1421961784362793 seconds\n",
      "2018-10-15 21:29:25,965 - train.Trainer - data added for {'num_rows': 1000, 'num_features': 100, 'n_estimators': 100, 'max_depth': 10, 'min_samples_split': 2, 'min_samples_leaf': 1, 'min_weight_fraction_leaf': 0.25, 'max_features': 100, 'max_leaf_nodes': 2, 'min_impurity_decrease': 10, 'min_impurity_split': 1, 'bootstrap': False, 'oob_score': False, 'n_jobs': 5} which outputs 0.16403985023498535 seconds\n",
      "2018-10-15 21:29:26,137 - train.Trainer - data added for {'num_rows': 1000, 'num_features': 100, 'n_estimators': 100, 'max_depth': 10, 'min_samples_split': 2, 'min_samples_leaf': 1, 'min_weight_fraction_leaf': 0.5, 'max_features': 10, 'max_leaf_nodes': 2, 'min_impurity_decrease': 1, 'min_impurity_split': 1, 'bootstrap': False, 'oob_score': False, 'n_jobs': 2} which outputs 0.16652727127075195 seconds\n",
      "2018-10-15 21:29:26,321 - train.Trainer - data added for {'num_rows': 1000, 'num_features': 100, 'n_estimators': 100, 'max_depth': 10, 'min_samples_split': 2, 'min_samples_leaf': 5, 'min_weight_fraction_leaf': 0.1, 'max_features': 10, 'max_leaf_nodes': 10, 'min_impurity_decrease': 10, 'min_impurity_split': 5, 'bootstrap': False, 'oob_score': False, 'n_jobs': 8} which outputs 0.176483154296875 seconds\n",
      "2018-10-15 21:29:26,559 - train.Trainer - data added for {'num_rows': 1000, 'num_features': 100, 'n_estimators': 100, 'max_depth': 10, 'min_samples_split': 10, 'min_samples_leaf': 5, 'min_weight_fraction_leaf': 0.5, 'max_features': 10, 'max_leaf_nodes': 10, 'min_impurity_decrease': 10, 'min_impurity_split': 5, 'bootstrap': True, 'oob_score': False, 'n_jobs': 5} which outputs 0.1661980152130127 seconds\n",
      "2018-10-15 21:29:26,837 - train.Trainer - data added for {'num_rows': 1000, 'num_features': 100, 'n_estimators': 100, 'max_depth': 100, 'min_samples_split': 2, 'min_samples_leaf': 5, 'min_weight_fraction_leaf': 0.25, 'max_features': 50, 'max_leaf_nodes': 2, 'min_impurity_decrease': 1, 'min_impurity_split': 10, 'bootstrap': False, 'oob_score': False, 'n_jobs': 5} which outputs 0.16629505157470703 seconds\n",
      "2018-10-15 21:29:27,028 - train.Trainer - data added for {'num_rows': 1000, 'num_features': 100, 'n_estimators': 100, 'max_depth': 100, 'min_samples_split': 4, 'min_samples_leaf': 5, 'min_weight_fraction_leaf': 0.25, 'max_features': 50, 'max_leaf_nodes': 4, 'min_impurity_decrease': 10, 'min_impurity_split': 5, 'bootstrap': False, 'oob_score': False, 'n_jobs': 2} which outputs 0.1583719253540039 seconds\n",
      "2018-10-15 21:29:27,220 - train.Trainer - data added for {'num_rows': 1000, 'num_features': 100, 'n_estimators': 100, 'max_depth': 100, 'min_samples_split': 10, 'min_samples_leaf': 1, 'min_weight_fraction_leaf': 0.5, 'max_features': 10, 'max_leaf_nodes': 10, 'min_impurity_decrease': 10, 'min_impurity_split': 5, 'bootstrap': True, 'oob_score': False, 'n_jobs': 5} which outputs 0.16444063186645508 seconds\n",
      "2018-10-15 21:29:27,365 - train.Trainer - data added for {'num_rows': 10000, 'num_features': 5, 'n_estimators': 10, 'max_depth': 10, 'min_samples_split': 2, 'min_samples_leaf': 1, 'min_weight_fraction_leaf': 0.25, 'max_features': 'auto', 'max_leaf_nodes': 2, 'min_impurity_decrease': 10, 'min_impurity_split': 5, 'bootstrap': True, 'oob_score': False, 'n_jobs': 2} which outputs 0.11084294319152832 seconds\n",
      "2018-10-15 21:29:27,610 - train.Trainer - data added for {'num_rows': 10000, 'num_features': 5, 'n_estimators': 10, 'max_depth': 50, 'min_samples_split': 10, 'min_samples_leaf': 1, 'min_weight_fraction_leaf': 0.1, 'max_features': 'auto', 'max_leaf_nodes': 10, 'min_impurity_decrease': 5, 'min_impurity_split': 5, 'bootstrap': True, 'oob_score': False, 'n_jobs': 5} which outputs 0.11127114295959473 seconds\n",
      "2018-10-15 21:29:27,744 - train.Trainer - data added for {'num_rows': 10000, 'num_features': 5, 'n_estimators': 10, 'max_depth': 50, 'min_samples_split': 10, 'min_samples_leaf': 5, 'min_weight_fraction_leaf': 0.5, 'max_features': 'auto', 'max_leaf_nodes': 2, 'min_impurity_decrease': 5, 'min_impurity_split': 10, 'bootstrap': False, 'oob_score': False, 'n_jobs': 8} which outputs 0.11239504814147949 seconds\n",
      "2018-10-15 21:29:28,148 - train.Trainer - data added for {'num_rows': 10000, 'num_features': 5, 'n_estimators': 50, 'max_depth': 100, 'min_samples_split': 2, 'min_samples_leaf': 10, 'min_weight_fraction_leaf': 0.25, 'max_features': 'auto', 'max_leaf_nodes': 10, 'min_impurity_decrease': 1, 'min_impurity_split': 1, 'bootstrap': False, 'oob_score': False, 'n_jobs': 2} which outputs 0.13127613067626953 seconds\n"
     ]
    },
    {
     "name": "stderr",
     "output_type": "stream",
     "text": [
      "2018-10-15 21:29:28,420 - train.Trainer - data added for {'num_rows': 10000, 'num_features': 5, 'n_estimators': 100, 'max_depth': 10, 'min_samples_split': 4, 'min_samples_leaf': 10, 'min_weight_fraction_leaf': 0.1, 'max_features': 'auto', 'max_leaf_nodes': 2, 'min_impurity_decrease': 5, 'min_impurity_split': 1, 'bootstrap': False, 'oob_score': False, 'n_jobs': 8} which outputs 0.16346502304077148 seconds\n",
      "2018-10-15 21:29:28,747 - train.Trainer - data added for {'num_rows': 10000, 'num_features': 5, 'n_estimators': 100, 'max_depth': 100, 'min_samples_split': 4, 'min_samples_leaf': 5, 'min_weight_fraction_leaf': 0.5, 'max_features': 'auto', 'max_leaf_nodes': 4, 'min_impurity_decrease': 1, 'min_impurity_split': 10, 'bootstrap': False, 'oob_score': False, 'n_jobs': 2} which outputs 0.16865205764770508 seconds\n",
      "2018-10-15 21:29:28,949 - train.Trainer - data added for {'num_rows': 10000, 'num_features': 50, 'n_estimators': 10, 'max_depth': 10, 'min_samples_split': 4, 'min_samples_leaf': 5, 'min_weight_fraction_leaf': 0.1, 'max_features': 10, 'max_leaf_nodes': 10, 'min_impurity_decrease': 10, 'min_impurity_split': 10, 'bootstrap': True, 'oob_score': False, 'n_jobs': 5} which outputs 0.11153697967529297 seconds\n",
      "2018-10-15 21:29:29,111 - train.Trainer - data added for {'num_rows': 10000, 'num_features': 50, 'n_estimators': 10, 'max_depth': 10, 'min_samples_split': 10, 'min_samples_leaf': 10, 'min_weight_fraction_leaf': 0.5, 'max_features': 50, 'max_leaf_nodes': 4, 'min_impurity_decrease': 1, 'min_impurity_split': 10, 'bootstrap': False, 'oob_score': False, 'n_jobs': 5} which outputs 0.10962986946105957 seconds\n",
      "2018-10-15 21:29:29,174 - train.Trainer - data added for {'num_rows': 10000, 'num_features': 50, 'n_estimators': 10, 'max_depth': 50, 'min_samples_split': 4, 'min_samples_leaf': 5, 'min_weight_fraction_leaf': 0.1, 'max_features': 20, 'max_leaf_nodes': 4, 'min_impurity_decrease': 10, 'min_impurity_split': 10, 'bootstrap': False, 'oob_score': False, 'n_jobs': 1} which outputs 0.009190082550048828 seconds\n"
     ]
    },
    {
     "ename": "KeyboardInterrupt",
     "evalue": "",
     "output_type": "error",
     "traceback": [
      "\u001b[0;31m---------------------------------------------------------------------------\u001b[0m",
      "\u001b[0;31mKeyboardInterrupt\u001b[0m                         Traceback (most recent call last)",
      "\u001b[0;32m<ipython-input-12-94c162cd3750>\u001b[0m in \u001b[0;36m<module>\u001b[0;34m()\u001b[0m\n\u001b[0;32m----> 1\u001b[0;31m \u001b[0mdf\u001b[0m\u001b[0;34m=\u001b[0m\u001b[0mtrainer\u001b[0m\u001b[0;34m.\u001b[0m\u001b[0m_generate_data\u001b[0m\u001b[0;34m(\u001b[0m\u001b[0;34m)\u001b[0m\u001b[0;34m\u001b[0m\u001b[0m\n\u001b[0m",
      "\u001b[0;32m~/Documents/Codes/scikest/scikest/scikest/utils.py\u001b[0m in \u001b[0;36mtimed\u001b[0;34m(*args, **kw)\u001b[0m\n\u001b[1;32m     21\u001b[0m     \u001b[0;32mdef\u001b[0m \u001b[0mtimed\u001b[0m\u001b[0;34m(\u001b[0m\u001b[0;34m*\u001b[0m\u001b[0margs\u001b[0m\u001b[0;34m,\u001b[0m \u001b[0;34m**\u001b[0m\u001b[0mkw\u001b[0m\u001b[0;34m)\u001b[0m\u001b[0;34m:\u001b[0m\u001b[0;34m\u001b[0m\u001b[0m\n\u001b[1;32m     22\u001b[0m         \u001b[0mts\u001b[0m \u001b[0;34m=\u001b[0m \u001b[0mtime\u001b[0m\u001b[0;34m.\u001b[0m\u001b[0mtime\u001b[0m\u001b[0;34m(\u001b[0m\u001b[0;34m)\u001b[0m\u001b[0;34m\u001b[0m\u001b[0m\n\u001b[0;32m---> 23\u001b[0;31m         \u001b[0mresult\u001b[0m \u001b[0;34m=\u001b[0m \u001b[0mmethod\u001b[0m\u001b[0;34m(\u001b[0m\u001b[0;34m*\u001b[0m\u001b[0margs\u001b[0m\u001b[0;34m,\u001b[0m \u001b[0;34m**\u001b[0m\u001b[0mkw\u001b[0m\u001b[0;34m)\u001b[0m\u001b[0;34m\u001b[0m\u001b[0m\n\u001b[0m\u001b[1;32m     24\u001b[0m         \u001b[0mte\u001b[0m \u001b[0;34m=\u001b[0m \u001b[0mtime\u001b[0m\u001b[0;34m.\u001b[0m\u001b[0mtime\u001b[0m\u001b[0;34m(\u001b[0m\u001b[0;34m)\u001b[0m\u001b[0;34m\u001b[0m\u001b[0m\n\u001b[1;32m     25\u001b[0m         \u001b[0mlog\u001b[0m\u001b[0;34m.\u001b[0m\u001b[0mlogger\u001b[0m\u001b[0;34m.\u001b[0m\u001b[0minfo\u001b[0m\u001b[0;34m(\u001b[0m\u001b[0;34mf'{method.__qualname__} took {round(te - ts, 3)}s seconds'\u001b[0m\u001b[0;34m)\u001b[0m\u001b[0;34m\u001b[0m\u001b[0m\n",
      "\u001b[0;32m~/Documents/Codes/scikest/scikest/scikest/train.py\u001b[0m in \u001b[0;36m_generate_data\u001b[0;34m(self)\u001b[0m\n\u001b[1;32m     97\u001b[0m                 \u001b[0;31m#Handling max_features > p case\u001b[0m\u001b[0;34m\u001b[0m\u001b[0;34m\u001b[0m\u001b[0m\n\u001b[1;32m     98\u001b[0m                 \u001b[0;32mif\u001b[0m \u001b[0mself\u001b[0m\u001b[0;34m.\u001b[0m\u001b[0m_check_feature_condition\u001b[0m\u001b[0;34m(\u001b[0m\u001b[0mf\u001b[0m\u001b[0;34m,\u001b[0m\u001b[0mp\u001b[0m\u001b[0;34m)\u001b[0m\u001b[0;34m:\u001b[0m\u001b[0;34m\u001b[0m\u001b[0m\n\u001b[0;32m---> 99\u001b[0;31m                     \u001b[0mthisOutput\u001b[0m \u001b[0;34m=\u001b[0m \u001b[0mself\u001b[0m\u001b[0;34m.\u001b[0m\u001b[0m_measure_time\u001b[0m\u001b[0;34m(\u001b[0m\u001b[0mn\u001b[0m\u001b[0;34m,\u001b[0m \u001b[0mp\u001b[0m\u001b[0;34m,\u001b[0m \u001b[0mrf_parameters_dic\u001b[0m\u001b[0;34m)\u001b[0m\u001b[0;34m\u001b[0m\u001b[0m\n\u001b[0m\u001b[1;32m    100\u001b[0m                     \u001b[0mthisInput\u001b[0m \u001b[0;34m=\u001b[0m \u001b[0mpermutation\u001b[0m\u001b[0;34m\u001b[0m\u001b[0m\n\u001b[1;32m    101\u001b[0m                     \u001b[0moutputs\u001b[0m\u001b[0;34m.\u001b[0m\u001b[0mappend\u001b[0m\u001b[0;34m(\u001b[0m\u001b[0mthisOutput\u001b[0m\u001b[0;34m)\u001b[0m\u001b[0;34m\u001b[0m\u001b[0m\n",
      "\u001b[0;32m~/Documents/Codes/scikest/scikest/scikest/train.py\u001b[0m in \u001b[0;36m_measure_time\u001b[0;34m(self, n, p, rf_params)\u001b[0m\n\u001b[1;32m     67\u001b[0m         \u001b[0mclf\u001b[0m \u001b[0;34m=\u001b[0m \u001b[0mRandomForestRegressor\u001b[0m\u001b[0;34m(\u001b[0m\u001b[0;34m**\u001b[0m\u001b[0mrf_params\u001b[0m\u001b[0;34m)\u001b[0m\u001b[0;34m\u001b[0m\u001b[0m\n\u001b[1;32m     68\u001b[0m         \u001b[0mstart_time\u001b[0m \u001b[0;34m=\u001b[0m \u001b[0mtime\u001b[0m\u001b[0;34m.\u001b[0m\u001b[0mtime\u001b[0m\u001b[0;34m(\u001b[0m\u001b[0;34m)\u001b[0m\u001b[0;34m\u001b[0m\u001b[0m\n\u001b[0;32m---> 69\u001b[0;31m         \u001b[0mclf\u001b[0m\u001b[0;34m.\u001b[0m\u001b[0mfit\u001b[0m\u001b[0;34m(\u001b[0m\u001b[0mX\u001b[0m\u001b[0;34m,\u001b[0m \u001b[0my\u001b[0m\u001b[0;34m)\u001b[0m\u001b[0;34m\u001b[0m\u001b[0m\n\u001b[0m\u001b[1;32m     70\u001b[0m         \u001b[0melapsed_time\u001b[0m \u001b[0;34m=\u001b[0m \u001b[0mtime\u001b[0m\u001b[0;34m.\u001b[0m\u001b[0mtime\u001b[0m\u001b[0;34m(\u001b[0m\u001b[0;34m)\u001b[0m \u001b[0;34m-\u001b[0m \u001b[0mstart_time\u001b[0m\u001b[0;34m\u001b[0m\u001b[0m\n\u001b[1;32m     71\u001b[0m         \u001b[0;32mreturn\u001b[0m \u001b[0melapsed_time\u001b[0m\u001b[0;34m\u001b[0m\u001b[0m\n",
      "\u001b[0;32m~/anaconda3/lib/python3.6/site-packages/sklearn/ensemble/forest.py\u001b[0m in \u001b[0;36mfit\u001b[0;34m(self, X, y, sample_weight)\u001b[0m\n\u001b[1;32m    326\u001b[0m                     \u001b[0mt\u001b[0m\u001b[0;34m,\u001b[0m \u001b[0mself\u001b[0m\u001b[0;34m,\u001b[0m \u001b[0mX\u001b[0m\u001b[0;34m,\u001b[0m \u001b[0my\u001b[0m\u001b[0;34m,\u001b[0m \u001b[0msample_weight\u001b[0m\u001b[0;34m,\u001b[0m \u001b[0mi\u001b[0m\u001b[0;34m,\u001b[0m \u001b[0mlen\u001b[0m\u001b[0;34m(\u001b[0m\u001b[0mtrees\u001b[0m\u001b[0;34m)\u001b[0m\u001b[0;34m,\u001b[0m\u001b[0;34m\u001b[0m\u001b[0m\n\u001b[1;32m    327\u001b[0m                     verbose=self.verbose, class_weight=self.class_weight)\n\u001b[0;32m--> 328\u001b[0;31m                 for i, t in enumerate(trees))\n\u001b[0m\u001b[1;32m    329\u001b[0m \u001b[0;34m\u001b[0m\u001b[0m\n\u001b[1;32m    330\u001b[0m             \u001b[0;31m# Collect newly grown trees\u001b[0m\u001b[0;34m\u001b[0m\u001b[0;34m\u001b[0m\u001b[0m\n",
      "\u001b[0;32m~/anaconda3/lib/python3.6/site-packages/sklearn/externals/joblib/parallel.py\u001b[0m in \u001b[0;36m__call__\u001b[0;34m(self, iterable)\u001b[0m\n\u001b[1;32m    795\u001b[0m         \u001b[0;32mfinally\u001b[0m\u001b[0;34m:\u001b[0m\u001b[0;34m\u001b[0m\u001b[0m\n\u001b[1;32m    796\u001b[0m             \u001b[0;32mif\u001b[0m \u001b[0;32mnot\u001b[0m \u001b[0mself\u001b[0m\u001b[0;34m.\u001b[0m\u001b[0m_managed_backend\u001b[0m\u001b[0;34m:\u001b[0m\u001b[0;34m\u001b[0m\u001b[0m\n\u001b[0;32m--> 797\u001b[0;31m                 \u001b[0mself\u001b[0m\u001b[0;34m.\u001b[0m\u001b[0m_terminate_backend\u001b[0m\u001b[0;34m(\u001b[0m\u001b[0;34m)\u001b[0m\u001b[0;34m\u001b[0m\u001b[0m\n\u001b[0m\u001b[1;32m    798\u001b[0m             \u001b[0mself\u001b[0m\u001b[0;34m.\u001b[0m\u001b[0m_jobs\u001b[0m \u001b[0;34m=\u001b[0m \u001b[0mlist\u001b[0m\u001b[0;34m(\u001b[0m\u001b[0;34m)\u001b[0m\u001b[0;34m\u001b[0m\u001b[0m\n\u001b[1;32m    799\u001b[0m         \u001b[0moutput\u001b[0m \u001b[0;34m=\u001b[0m \u001b[0mself\u001b[0m\u001b[0;34m.\u001b[0m\u001b[0m_output\u001b[0m\u001b[0;34m\u001b[0m\u001b[0m\n",
      "\u001b[0;32m~/anaconda3/lib/python3.6/site-packages/sklearn/externals/joblib/parallel.py\u001b[0m in \u001b[0;36m_terminate_backend\u001b[0;34m(self)\u001b[0m\n\u001b[1;32m    568\u001b[0m     \u001b[0;32mdef\u001b[0m \u001b[0m_terminate_backend\u001b[0m\u001b[0;34m(\u001b[0m\u001b[0mself\u001b[0m\u001b[0;34m)\u001b[0m\u001b[0;34m:\u001b[0m\u001b[0;34m\u001b[0m\u001b[0m\n\u001b[1;32m    569\u001b[0m         \u001b[0;32mif\u001b[0m \u001b[0mself\u001b[0m\u001b[0;34m.\u001b[0m\u001b[0m_backend\u001b[0m \u001b[0;32mis\u001b[0m \u001b[0;32mnot\u001b[0m \u001b[0;32mNone\u001b[0m\u001b[0;34m:\u001b[0m\u001b[0;34m\u001b[0m\u001b[0m\n\u001b[0;32m--> 570\u001b[0;31m             \u001b[0mself\u001b[0m\u001b[0;34m.\u001b[0m\u001b[0m_backend\u001b[0m\u001b[0;34m.\u001b[0m\u001b[0mterminate\u001b[0m\u001b[0;34m(\u001b[0m\u001b[0;34m)\u001b[0m\u001b[0;34m\u001b[0m\u001b[0m\n\u001b[0m\u001b[1;32m    571\u001b[0m \u001b[0;34m\u001b[0m\u001b[0m\n\u001b[1;32m    572\u001b[0m     \u001b[0;32mdef\u001b[0m \u001b[0m_dispatch\u001b[0m\u001b[0;34m(\u001b[0m\u001b[0mself\u001b[0m\u001b[0;34m,\u001b[0m \u001b[0mbatch\u001b[0m\u001b[0;34m)\u001b[0m\u001b[0;34m:\u001b[0m\u001b[0;34m\u001b[0m\u001b[0m\n",
      "\u001b[0;32m~/anaconda3/lib/python3.6/site-packages/sklearn/externals/joblib/_parallel_backends.py\u001b[0m in \u001b[0;36mterminate\u001b[0;34m(self)\u001b[0m\n\u001b[1;32m    134\u001b[0m         \u001b[0;32mif\u001b[0m \u001b[0mself\u001b[0m\u001b[0;34m.\u001b[0m\u001b[0m_pool\u001b[0m \u001b[0;32mis\u001b[0m \u001b[0;32mnot\u001b[0m \u001b[0;32mNone\u001b[0m\u001b[0;34m:\u001b[0m\u001b[0;34m\u001b[0m\u001b[0m\n\u001b[1;32m    135\u001b[0m             \u001b[0mself\u001b[0m\u001b[0;34m.\u001b[0m\u001b[0m_pool\u001b[0m\u001b[0;34m.\u001b[0m\u001b[0mclose\u001b[0m\u001b[0;34m(\u001b[0m\u001b[0;34m)\u001b[0m\u001b[0;34m\u001b[0m\u001b[0m\n\u001b[0;32m--> 136\u001b[0;31m             \u001b[0mself\u001b[0m\u001b[0;34m.\u001b[0m\u001b[0m_pool\u001b[0m\u001b[0;34m.\u001b[0m\u001b[0mterminate\u001b[0m\u001b[0;34m(\u001b[0m\u001b[0;34m)\u001b[0m  \u001b[0;31m# terminate does a join()\u001b[0m\u001b[0;34m\u001b[0m\u001b[0m\n\u001b[0m\u001b[1;32m    137\u001b[0m             \u001b[0mself\u001b[0m\u001b[0;34m.\u001b[0m\u001b[0m_pool\u001b[0m \u001b[0;34m=\u001b[0m \u001b[0;32mNone\u001b[0m\u001b[0;34m\u001b[0m\u001b[0m\n\u001b[1;32m    138\u001b[0m \u001b[0;34m\u001b[0m\u001b[0m\n",
      "\u001b[0;32m~/anaconda3/lib/python3.6/multiprocessing/pool.py\u001b[0m in \u001b[0;36mterminate\u001b[0;34m(self)\u001b[0m\n\u001b[1;32m    539\u001b[0m         \u001b[0mself\u001b[0m\u001b[0;34m.\u001b[0m\u001b[0m_state\u001b[0m \u001b[0;34m=\u001b[0m \u001b[0mTERMINATE\u001b[0m\u001b[0;34m\u001b[0m\u001b[0m\n\u001b[1;32m    540\u001b[0m         \u001b[0mself\u001b[0m\u001b[0;34m.\u001b[0m\u001b[0m_worker_handler\u001b[0m\u001b[0;34m.\u001b[0m\u001b[0m_state\u001b[0m \u001b[0;34m=\u001b[0m \u001b[0mTERMINATE\u001b[0m\u001b[0;34m\u001b[0m\u001b[0m\n\u001b[0;32m--> 541\u001b[0;31m         \u001b[0mself\u001b[0m\u001b[0;34m.\u001b[0m\u001b[0m_terminate\u001b[0m\u001b[0;34m(\u001b[0m\u001b[0;34m)\u001b[0m\u001b[0;34m\u001b[0m\u001b[0m\n\u001b[0m\u001b[1;32m    542\u001b[0m \u001b[0;34m\u001b[0m\u001b[0m\n\u001b[1;32m    543\u001b[0m     \u001b[0;32mdef\u001b[0m \u001b[0mjoin\u001b[0m\u001b[0;34m(\u001b[0m\u001b[0mself\u001b[0m\u001b[0;34m)\u001b[0m\u001b[0;34m:\u001b[0m\u001b[0;34m\u001b[0m\u001b[0m\n",
      "\u001b[0;32m~/anaconda3/lib/python3.6/multiprocessing/util.py\u001b[0m in \u001b[0;36m__call__\u001b[0;34m(self, wr, _finalizer_registry, sub_debug, getpid)\u001b[0m\n\u001b[1;32m    184\u001b[0m                 sub_debug('finalizer calling %s with args %s and kwargs %s',\n\u001b[1;32m    185\u001b[0m                           self._callback, self._args, self._kwargs)\n\u001b[0;32m--> 186\u001b[0;31m                 \u001b[0mres\u001b[0m \u001b[0;34m=\u001b[0m \u001b[0mself\u001b[0m\u001b[0;34m.\u001b[0m\u001b[0m_callback\u001b[0m\u001b[0;34m(\u001b[0m\u001b[0;34m*\u001b[0m\u001b[0mself\u001b[0m\u001b[0;34m.\u001b[0m\u001b[0m_args\u001b[0m\u001b[0;34m,\u001b[0m \u001b[0;34m**\u001b[0m\u001b[0mself\u001b[0m\u001b[0;34m.\u001b[0m\u001b[0m_kwargs\u001b[0m\u001b[0;34m)\u001b[0m\u001b[0;34m\u001b[0m\u001b[0m\n\u001b[0m\u001b[1;32m    187\u001b[0m             \u001b[0mself\u001b[0m\u001b[0;34m.\u001b[0m\u001b[0m_weakref\u001b[0m \u001b[0;34m=\u001b[0m \u001b[0mself\u001b[0m\u001b[0;34m.\u001b[0m\u001b[0m_callback\u001b[0m \u001b[0;34m=\u001b[0m \u001b[0mself\u001b[0m\u001b[0;34m.\u001b[0m\u001b[0m_args\u001b[0m \u001b[0;34m=\u001b[0m\u001b[0;31m \u001b[0m\u001b[0;31m\\\u001b[0m\u001b[0;34m\u001b[0m\u001b[0m\n\u001b[1;32m    188\u001b[0m                             \u001b[0mself\u001b[0m\u001b[0;34m.\u001b[0m\u001b[0m_kwargs\u001b[0m \u001b[0;34m=\u001b[0m \u001b[0mself\u001b[0m\u001b[0;34m.\u001b[0m\u001b[0m_key\u001b[0m \u001b[0;34m=\u001b[0m \u001b[0;32mNone\u001b[0m\u001b[0;34m\u001b[0m\u001b[0m\n",
      "\u001b[0;32m~/anaconda3/lib/python3.6/multiprocessing/pool.py\u001b[0m in \u001b[0;36m_terminate_pool\u001b[0;34m(cls, taskqueue, inqueue, outqueue, pool, worker_handler, task_handler, result_handler, cache)\u001b[0m\n\u001b[1;32m    580\u001b[0m         \u001b[0mutil\u001b[0m\u001b[0;34m.\u001b[0m\u001b[0mdebug\u001b[0m\u001b[0;34m(\u001b[0m\u001b[0;34m'joining worker handler'\u001b[0m\u001b[0;34m)\u001b[0m\u001b[0;34m\u001b[0m\u001b[0m\n\u001b[1;32m    581\u001b[0m         \u001b[0;32mif\u001b[0m \u001b[0mthreading\u001b[0m\u001b[0;34m.\u001b[0m\u001b[0mcurrent_thread\u001b[0m\u001b[0;34m(\u001b[0m\u001b[0;34m)\u001b[0m \u001b[0;32mis\u001b[0m \u001b[0;32mnot\u001b[0m \u001b[0mworker_handler\u001b[0m\u001b[0;34m:\u001b[0m\u001b[0;34m\u001b[0m\u001b[0m\n\u001b[0;32m--> 582\u001b[0;31m             \u001b[0mworker_handler\u001b[0m\u001b[0;34m.\u001b[0m\u001b[0mjoin\u001b[0m\u001b[0;34m(\u001b[0m\u001b[0;34m)\u001b[0m\u001b[0;34m\u001b[0m\u001b[0m\n\u001b[0m\u001b[1;32m    583\u001b[0m \u001b[0;34m\u001b[0m\u001b[0m\n\u001b[1;32m    584\u001b[0m         \u001b[0;31m# Terminate workers which haven't already finished.\u001b[0m\u001b[0;34m\u001b[0m\u001b[0;34m\u001b[0m\u001b[0m\n",
      "\u001b[0;32m~/anaconda3/lib/python3.6/threading.py\u001b[0m in \u001b[0;36mjoin\u001b[0;34m(self, timeout)\u001b[0m\n\u001b[1;32m   1054\u001b[0m \u001b[0;34m\u001b[0m\u001b[0m\n\u001b[1;32m   1055\u001b[0m         \u001b[0;32mif\u001b[0m \u001b[0mtimeout\u001b[0m \u001b[0;32mis\u001b[0m \u001b[0;32mNone\u001b[0m\u001b[0;34m:\u001b[0m\u001b[0;34m\u001b[0m\u001b[0m\n\u001b[0;32m-> 1056\u001b[0;31m             \u001b[0mself\u001b[0m\u001b[0;34m.\u001b[0m\u001b[0m_wait_for_tstate_lock\u001b[0m\u001b[0;34m(\u001b[0m\u001b[0;34m)\u001b[0m\u001b[0;34m\u001b[0m\u001b[0m\n\u001b[0m\u001b[1;32m   1057\u001b[0m         \u001b[0;32melse\u001b[0m\u001b[0;34m:\u001b[0m\u001b[0;34m\u001b[0m\u001b[0m\n\u001b[1;32m   1058\u001b[0m             \u001b[0;31m# the behavior of a negative timeout isn't documented, but\u001b[0m\u001b[0;34m\u001b[0m\u001b[0;34m\u001b[0m\u001b[0m\n",
      "\u001b[0;32m~/anaconda3/lib/python3.6/threading.py\u001b[0m in \u001b[0;36m_wait_for_tstate_lock\u001b[0;34m(self, block, timeout)\u001b[0m\n\u001b[1;32m   1070\u001b[0m         \u001b[0;32mif\u001b[0m \u001b[0mlock\u001b[0m \u001b[0;32mis\u001b[0m \u001b[0;32mNone\u001b[0m\u001b[0;34m:\u001b[0m  \u001b[0;31m# already determined that the C code is done\u001b[0m\u001b[0;34m\u001b[0m\u001b[0m\n\u001b[1;32m   1071\u001b[0m             \u001b[0;32massert\u001b[0m \u001b[0mself\u001b[0m\u001b[0;34m.\u001b[0m\u001b[0m_is_stopped\u001b[0m\u001b[0;34m\u001b[0m\u001b[0m\n\u001b[0;32m-> 1072\u001b[0;31m         \u001b[0;32melif\u001b[0m \u001b[0mlock\u001b[0m\u001b[0;34m.\u001b[0m\u001b[0macquire\u001b[0m\u001b[0;34m(\u001b[0m\u001b[0mblock\u001b[0m\u001b[0;34m,\u001b[0m \u001b[0mtimeout\u001b[0m\u001b[0;34m)\u001b[0m\u001b[0;34m:\u001b[0m\u001b[0;34m\u001b[0m\u001b[0m\n\u001b[0m\u001b[1;32m   1073\u001b[0m             \u001b[0mlock\u001b[0m\u001b[0;34m.\u001b[0m\u001b[0mrelease\u001b[0m\u001b[0;34m(\u001b[0m\u001b[0;34m)\u001b[0m\u001b[0;34m\u001b[0m\u001b[0m\n\u001b[1;32m   1074\u001b[0m             \u001b[0mself\u001b[0m\u001b[0;34m.\u001b[0m\u001b[0m_stop\u001b[0m\u001b[0;34m(\u001b[0m\u001b[0;34m)\u001b[0m\u001b[0;34m\u001b[0m\u001b[0m\n",
      "\u001b[0;31mKeyboardInterrupt\u001b[0m: "
     ]
    }
   ],
   "source": [
    "df=trainer._generate_data()"
   ]
  },
  {
   "cell_type": "code",
   "execution_count": 6,
   "metadata": {},
   "outputs": [
    {
     "name": "stdout",
     "output_type": "stream",
     "text": [
      "/Users/nathantoubiana\n"
     ]
    }
   ],
   "source": [
    "cd"
   ]
  },
  {
   "cell_type": "code",
   "execution_count": 7,
   "metadata": {},
   "outputs": [
    {
     "name": "stdout",
     "output_type": "stream",
     "text": [
      "/Users/nathantoubiana/Downloads\n"
     ]
    }
   ],
   "source": [
    "cd Downloads/"
   ]
  },
  {
   "cell_type": "code",
   "execution_count": 8,
   "metadata": {
    "collapsed": true
   },
   "outputs": [],
   "source": [
    "df=pd.read_csv('result.csv')\n",
    "df2=pd.read_csv('result-2.csv')\n",
    "cols=['num_rows',\n",
    "'num_features','n_estimators',\n",
    "'max_depth',\n",
    "'min_samples_split',\n",
    "'min_samples_leaf',\n",
    "'min_weight_fraction_leaf',\n",
    "'max_features',\n",
    "'max_leaf_nodes',\n",
    "'min_impurity_decrease',\n",
    "'min_impurity_split',\n",
    "'bootstrap',\n",
    "'oob_score',\n",
    "'n_jobs','output']\n",
    "df.columns=cols\n",
    "df2.columns=cols\n",
    "df=pd.concat([df,df2])\n",
    "outputs=df[['output']]\n",
    "del df['output']"
   ]
  },
  {
   "cell_type": "code",
   "execution_count": 9,
   "metadata": {},
   "outputs": [
    {
     "data": {
      "text/plain": [
       "(3623, 14)"
      ]
     },
     "execution_count": 9,
     "metadata": {},
     "output_type": "execute_result"
    }
   ],
   "source": [
    "df.shape"
   ]
  },
  {
   "cell_type": "code",
   "execution_count": 10,
   "metadata": {},
   "outputs": [
    {
     "name": "stdout",
     "output_type": "stream",
     "text": [
      "/Users/nathantoubiana\n"
     ]
    }
   ],
   "source": [
    "cd"
   ]
  },
  {
   "cell_type": "code",
   "execution_count": 11,
   "metadata": {},
   "outputs": [
    {
     "name": "stdout",
     "output_type": "stream",
     "text": [
      "/Users/nathantoubiana/Documents/Codes/scikest/scikest/scikest\n"
     ]
    }
   ],
   "source": [
    "cd Documents/Codes/scikest/scikest/scikest"
   ]
  },
  {
   "cell_type": "code",
   "execution_count": 16,
   "metadata": {
    "collapsed": true
   },
   "outputs": [],
   "source": [
    "trainer=Trainer(algo_estimator='RF')"
   ]
  },
  {
   "cell_type": "code",
   "execution_count": 17,
   "metadata": {},
   "outputs": [
    {
     "data": {
      "text/plain": [
       "(3623, 1)"
      ]
     },
     "execution_count": 17,
     "metadata": {},
     "output_type": "execute_result"
    }
   ],
   "source": [
    "outputs.shape"
   ]
  },
  {
   "cell_type": "code",
   "execution_count": 18,
   "metadata": {},
   "outputs": [
    {
     "data": {
      "text/html": [
       "<div>\n",
       "<style>\n",
       "    .dataframe thead tr:only-child th {\n",
       "        text-align: right;\n",
       "    }\n",
       "\n",
       "    .dataframe thead th {\n",
       "        text-align: left;\n",
       "    }\n",
       "\n",
       "    .dataframe tbody tr th {\n",
       "        vertical-align: top;\n",
       "    }\n",
       "</style>\n",
       "<table border=\"1\" class=\"dataframe\">\n",
       "  <thead>\n",
       "    <tr style=\"text-align: right;\">\n",
       "      <th></th>\n",
       "      <th>num_rows</th>\n",
       "      <th>num_features</th>\n",
       "      <th>n_estimators</th>\n",
       "      <th>max_depth</th>\n",
       "      <th>min_samples_split</th>\n",
       "      <th>min_samples_leaf</th>\n",
       "      <th>min_weight_fraction_leaf</th>\n",
       "      <th>max_features</th>\n",
       "      <th>max_leaf_nodes</th>\n",
       "      <th>min_impurity_decrease</th>\n",
       "      <th>min_impurity_split</th>\n",
       "      <th>bootstrap</th>\n",
       "      <th>oob_score</th>\n",
       "      <th>n_jobs</th>\n",
       "    </tr>\n",
       "  </thead>\n",
       "  <tbody>\n",
       "    <tr>\n",
       "      <th>0</th>\n",
       "      <td>100000</td>\n",
       "      <td>5</td>\n",
       "      <td>10</td>\n",
       "      <td>10</td>\n",
       "      <td>4</td>\n",
       "      <td>1</td>\n",
       "      <td>0.25</td>\n",
       "      <td>auto</td>\n",
       "      <td>10</td>\n",
       "      <td>1</td>\n",
       "      <td>10</td>\n",
       "      <td>False</td>\n",
       "      <td>False</td>\n",
       "      <td>8</td>\n",
       "    </tr>\n",
       "    <tr>\n",
       "      <th>1</th>\n",
       "      <td>100000</td>\n",
       "      <td>5</td>\n",
       "      <td>10</td>\n",
       "      <td>10</td>\n",
       "      <td>10</td>\n",
       "      <td>1</td>\n",
       "      <td>0.25</td>\n",
       "      <td>auto</td>\n",
       "      <td>2</td>\n",
       "      <td>10</td>\n",
       "      <td>5</td>\n",
       "      <td>False</td>\n",
       "      <td>False</td>\n",
       "      <td>2</td>\n",
       "    </tr>\n",
       "    <tr>\n",
       "      <th>2</th>\n",
       "      <td>100000</td>\n",
       "      <td>5</td>\n",
       "      <td>10</td>\n",
       "      <td>10</td>\n",
       "      <td>10</td>\n",
       "      <td>1</td>\n",
       "      <td>0.50</td>\n",
       "      <td>auto</td>\n",
       "      <td>2</td>\n",
       "      <td>10</td>\n",
       "      <td>5</td>\n",
       "      <td>True</td>\n",
       "      <td>False</td>\n",
       "      <td>2</td>\n",
       "    </tr>\n",
       "    <tr>\n",
       "      <th>3</th>\n",
       "      <td>100000</td>\n",
       "      <td>5</td>\n",
       "      <td>10</td>\n",
       "      <td>10</td>\n",
       "      <td>10</td>\n",
       "      <td>5</td>\n",
       "      <td>0.50</td>\n",
       "      <td>auto</td>\n",
       "      <td>10</td>\n",
       "      <td>5</td>\n",
       "      <td>10</td>\n",
       "      <td>False</td>\n",
       "      <td>False</td>\n",
       "      <td>8</td>\n",
       "    </tr>\n",
       "    <tr>\n",
       "      <th>4</th>\n",
       "      <td>100000</td>\n",
       "      <td>5</td>\n",
       "      <td>10</td>\n",
       "      <td>10</td>\n",
       "      <td>10</td>\n",
       "      <td>10</td>\n",
       "      <td>0.50</td>\n",
       "      <td>auto</td>\n",
       "      <td>10</td>\n",
       "      <td>10</td>\n",
       "      <td>5</td>\n",
       "      <td>True</td>\n",
       "      <td>False</td>\n",
       "      <td>5</td>\n",
       "    </tr>\n",
       "  </tbody>\n",
       "</table>\n",
       "</div>"
      ],
      "text/plain": [
       "   num_rows  num_features  n_estimators  max_depth  min_samples_split  \\\n",
       "0    100000             5            10         10                  4   \n",
       "1    100000             5            10         10                 10   \n",
       "2    100000             5            10         10                 10   \n",
       "3    100000             5            10         10                 10   \n",
       "4    100000             5            10         10                 10   \n",
       "\n",
       "   min_samples_leaf  min_weight_fraction_leaf max_features  max_leaf_nodes  \\\n",
       "0                 1                      0.25         auto              10   \n",
       "1                 1                      0.25         auto               2   \n",
       "2                 1                      0.50         auto               2   \n",
       "3                 5                      0.50         auto              10   \n",
       "4                10                      0.50         auto              10   \n",
       "\n",
       "   min_impurity_decrease  min_impurity_split  bootstrap  oob_score  n_jobs  \n",
       "0                      1                  10      False      False       8  \n",
       "1                     10                   5      False      False       2  \n",
       "2                     10                   5       True      False       2  \n",
       "3                      5                  10      False      False       8  \n",
       "4                     10                   5       True      False       5  "
      ]
     },
     "execution_count": 18,
     "metadata": {},
     "output_type": "execute_result"
    }
   ],
   "source": [
    "df.head()"
   ]
  },
  {
   "cell_type": "code",
   "execution_count": 20,
   "metadata": {},
   "outputs": [
    {
     "name": "stderr",
     "output_type": "stream",
     "text": [
      "2018-10-15 21:30:28,984 - train.Trainer - Model inputs: ['num_rows', 'num_features', 'n_estimators', 'max_depth', 'min_samples_split', 'min_samples_leaf', 'min_weight_fraction_leaf', 'max_leaf_nodes', 'min_impurity_decrease', 'min_impurity_split', 'bootstrap', 'oob_score', 'n_jobs', 'max_features_10', 'max_features_20', 'max_features_50', 'max_features_auto']\n",
      "2018-10-15 21:30:28,986 - train.Trainer - Fitting RF to estimate training durations\n",
      "2018-10-15 21:30:29,076 - train.Trainer - Saving RF to RF_estimator.pkl\n",
      "2018-10-15 21:30:29,092 - train.Trainer - R squared on train set is 0.9968350145499275\n",
      "2018-10-15 21:30:29,102 - train.Trainer - MAPE on train set is: 1.3971498330451058\n",
      "2018-10-15 21:30:29,104 - train.Trainer - MAPE on test set is: 3.3254123954894035\n",
      "2018-10-15 21:30:29,105 - train.Trainer - RMSE on train set is 0.9052243754817675\n",
      "2018-10-15 21:30:29,107 - train.Trainer - RMSE on test set is 1.7555797062325873\n",
      "2018-10-15 21:30:29,109 - utils.LogMixin - Trainer.model_fit took 0.131s seconds\n"
     ]
    },
    {
     "data": {
      "text/plain": [
       "RandomForestRegressor(bootstrap=True, criterion='mse', max_depth=None,\n",
       "           max_features='auto', max_leaf_nodes=None,\n",
       "           min_impurity_decrease=0.0, min_impurity_split=None,\n",
       "           min_samples_leaf=1, min_samples_split=2,\n",
       "           min_weight_fraction_leaf=0.0, n_estimators=10, n_jobs=1,\n",
       "           oob_score=False, random_state=None, verbose=0, warm_start=False)"
      ]
     },
     "execution_count": 20,
     "metadata": {},
     "output_type": "execute_result"
    }
   ],
   "source": [
    "trainer.model_fit(generate_data=False,outputs=outputs,df=df)"
   ]
  },
  {
   "cell_type": "code",
   "execution_count": 22,
   "metadata": {
    "collapsed": true
   },
   "outputs": [],
   "source": [
    "estimator=Estimator(algo_estimator='RF')"
   ]
  },
  {
   "cell_type": "code",
   "execution_count": 23,
   "metadata": {
    "collapsed": true
   },
   "outputs": [],
   "source": [
    "rf= RandomForestRegressor(bootstrap=True, criterion='mse', max_depth=200,\n",
    "           max_features='auto', max_leaf_nodes=10, min_impurity_decrease=10,\n",
    "           min_impurity_split=10, min_samples_leaf=10,\n",
    "           min_samples_split=10, min_weight_fraction_leaf=0.5,\n",
    "           n_estimators=100, n_jobs=1, oob_score=False, random_state=None,\n",
    "           verbose=0, warm_start=False)\n",
    "\n"
   ]
  },
  {
   "cell_type": "code",
   "execution_count": null,
   "metadata": {
    "collapsed": true
   },
   "outputs": [],
   "source": []
  },
  {
   "cell_type": "code",
   "execution_count": 26,
   "metadata": {},
   "outputs": [
    {
     "name": "stderr",
     "output_type": "stream",
     "text": [
      "2018-10-15 21:31:27,877 - estimate.Estimator - Fetching estimator: RF_estimator.pkl\n",
      "2018-10-15 21:31:27,885 - estimate.Estimator - Training your model for these params: {'num_rows': [1000000], 'num_features': [10], 'n_estimators': [100], 'max_depth': [200], 'min_samples_split': [10], 'min_samples_leaf': [10], 'min_weight_fraction_leaf': [0.5], 'max_features': ['auto'], 'max_leaf_nodes': [10], 'min_impurity_decrease': [10], 'min_impurity_split': [10], 'bootstrap': [True], 'oob_score': [False], 'n_jobs': [1]}\n",
      "2018-10-15 21:31:27,897 - estimate.Estimator - Training your model should take ~ 3.26775488853 seconds\n"
     ]
    },
    {
     "data": {
      "text/plain": [
       "array([ 3.26775489])"
      ]
     },
     "execution_count": 26,
     "metadata": {},
     "output_type": "execute_result"
    }
   ],
   "source": [
    "estimator.estimate_duration(np.random.rand(1000000,10),rf)\n"
   ]
  },
  {
   "cell_type": "code",
   "execution_count": 28,
   "metadata": {},
   "outputs": [
    {
     "data": {
      "text/plain": [
       "'RF'"
      ]
     },
     "execution_count": 28,
     "metadata": {},
     "output_type": "execute_result"
    }
   ],
   "source": [
    "estimatorS.algo_estimator"
   ]
  },
  {
   "cell_type": "code",
   "execution_count": 27,
   "metadata": {},
   "outputs": [],
   "source": [
    "X,y=np.random.rand(1000000,10),np.random.rand(1000000,1)\n",
    "start_time = time.time()\n",
    "rf.fit(X,y)\n",
    "elapsed_time = time.time() - start_time"
   ]
  },
  {
   "cell_type": "code",
   "execution_count": 28,
   "metadata": {},
   "outputs": [
    {
     "data": {
      "text/plain": [
       "3.0627760887145996"
      ]
     },
     "execution_count": 28,
     "metadata": {},
     "output_type": "execute_result"
    }
   ],
   "source": [
    "elapsed_time"
   ]
  },
  {
   "cell_type": "code",
   "execution_count": null,
   "metadata": {
    "collapsed": true
   },
   "outputs": [],
   "source": []
  }
 ],
 "metadata": {
  "kernelspec": {
   "display_name": "Python 3",
   "language": "python",
   "name": "python3"
  },
  "language_info": {
   "codemirror_mode": {
    "name": "ipython",
    "version": 3
   },
   "file_extension": ".py",
   "mimetype": "text/x-python",
   "name": "python",
   "nbconvert_exporter": "python",
   "pygments_lexer": "ipython3",
   "version": "3.6.3"
  }
 },
 "nbformat": 4,
 "nbformat_minor": 2
}
